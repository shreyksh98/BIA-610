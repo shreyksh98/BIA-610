{
 "cells": [
  {
   "cell_type": "markdown",
   "metadata": {},
   "source": [
    "Citations: [made with the help of kaggle.com]"
   ]
  },
  {
   "cell_type": "code",
   "execution_count": 1,
   "metadata": {
    "_cell_guid": "9e319230-1cc2-4b19-ad66-06a07e07fc60",
    "_execution_state": "idle",
    "_uuid": "03de849fb872e11b3db2a2c99563783ce6ba784f"
   },
   "outputs": [
    {
     "name": "stderr",
     "output_type": "stream",
     "text": [
      "Using TensorFlow backend.\n",
      "C:\\Users\\shrey\\Anaconda3\\lib\\site-packages\\pandas\\core\\frame.py:6692: FutureWarning: Sorting because non-concatenation axis is not aligned. A future version\n",
      "of pandas will change to not sort by default.\n",
      "\n",
      "To accept the future behavior, pass 'sort=False'.\n",
      "\n",
      "To retain the current behavior and silence the warning, pass 'sort=True'.\n",
      "\n",
      "  sort=sort)\n"
     ]
    },
    {
     "data": {
      "text/plain": [
       "((891, 12),\n",
       " (418, 11),\n",
       " array(['PassengerId', 'Survived', 'Pclass', 'Name', 'Sex', 'Age', 'SibSp',\n",
       "        'Parch', 'Ticket', 'Fare', 'Cabin', 'Embarked'], dtype=object))"
      ]
     },
     "execution_count": 1,
     "metadata": {},
     "output_type": "execute_result"
    }
   ],
   "source": [
    "import numpy as np\n",
    "import pandas as pd\n",
    "import matplotlib.pyplot as plt\n",
    "import seaborn as sns\n",
    "%matplotlib inline\n",
    "\n",
    "import warnings\n",
    "warnings.filterwarnings(\"ignore\", category=DeprecationWarning) \n",
    "\n",
    "from sklearn.ensemble import RandomForestRegressor\n",
    "\n",
    "import keras \n",
    "from keras.models import Sequential # intitialize the ANN\n",
    "from keras.layers import Dense      # create layers\n",
    "\n",
    "# load the data\n",
    "df_test = pd.read_csv(r\"C:\\Users\\Shrey\\Downloads\\test.csv\")\n",
    "df_train = pd.read_csv(r\"C:\\Users\\Shrey\\Downloads\\train.csv\")\n",
    "df = df_train.append(df_test , ignore_index = True)\n",
    "\n",
    "\n",
    "df_train.shape, df_test.shape, df_train.columns.values"
   ]
  },
  {
   "cell_type": "code",
   "execution_count": 2,
   "metadata": {
    "_cell_guid": "8ac53d3d-bf63-4b0a-b4dd-cf69ebb1b189",
    "_execution_state": "idle",
    "_uuid": "7a92a95fd0642b65500aa0fe2d5453f8f9cff24c"
   },
   "outputs": [
    {
     "data": {
      "text/plain": [
       "0"
      ]
     },
     "execution_count": 2,
     "metadata": {},
     "output_type": "execute_result"
    }
   ],
   "source": [
    "# check if there is any NAN\n",
    "df['Pclass'].isnull().sum(axis=0)"
   ]
  },
  {
   "cell_type": "code",
   "execution_count": 3,
   "metadata": {
    "_cell_guid": "366c466d-d5f1-41f2-9568-3abc426bfc75",
    "_execution_state": "idle",
    "_uuid": "d380019bd6179b6ddcde472ce10771788ae204f4"
   },
   "outputs": [
    {
     "data": {
      "text/html": [
       "<div>\n",
       "<style scoped>\n",
       "    .dataframe tbody tr th:only-of-type {\n",
       "        vertical-align: middle;\n",
       "    }\n",
       "\n",
       "    .dataframe tbody tr th {\n",
       "        vertical-align: top;\n",
       "    }\n",
       "\n",
       "    .dataframe thead th {\n",
       "        text-align: right;\n",
       "    }\n",
       "</style>\n",
       "<table border=\"1\" class=\"dataframe\">\n",
       "  <thead>\n",
       "    <tr style=\"text-align: right;\">\n",
       "      <th></th>\n",
       "      <th>Pclass</th>\n",
       "      <th>Survived</th>\n",
       "    </tr>\n",
       "  </thead>\n",
       "  <tbody>\n",
       "    <tr>\n",
       "      <th>0</th>\n",
       "      <td>1</td>\n",
       "      <td>0.629630</td>\n",
       "    </tr>\n",
       "    <tr>\n",
       "      <th>1</th>\n",
       "      <td>2</td>\n",
       "      <td>0.472826</td>\n",
       "    </tr>\n",
       "    <tr>\n",
       "      <th>2</th>\n",
       "      <td>3</td>\n",
       "      <td>0.242363</td>\n",
       "    </tr>\n",
       "  </tbody>\n",
       "</table>\n",
       "</div>"
      ],
      "text/plain": [
       "   Pclass  Survived\n",
       "0       1  0.629630\n",
       "1       2  0.472826\n",
       "2       3  0.242363"
      ]
     },
     "execution_count": 3,
     "metadata": {},
     "output_type": "execute_result"
    }
   ],
   "source": [
    "# inspect the correlation between Pclass and Survived\n",
    "df[['Pclass', 'Survived']].groupby(['Pclass'], as_index=False).mean()"
   ]
  },
  {
   "cell_type": "code",
   "execution_count": 4,
   "metadata": {
    "_cell_guid": "fa11d6a2-ad3d-443b-8579-de525fdd20c1",
    "_execution_state": "idle",
    "_uuid": "a40e18c8e9fe2692dec94722cc6ab316d71b5003"
   },
   "outputs": [
    {
     "data": {
      "text/plain": [
       "0                              Braund, Mr. Owen Harris\n",
       "1    Cumings, Mrs. John Bradley (Florence Briggs Th...\n",
       "2                               Heikkinen, Miss. Laina\n",
       "3         Futrelle, Mrs. Jacques Heath (Lily May Peel)\n",
       "4                             Allen, Mr. William Henry\n",
       "5                                     Moran, Mr. James\n",
       "6                              McCarthy, Mr. Timothy J\n",
       "7                       Palsson, Master. Gosta Leonard\n",
       "8    Johnson, Mrs. Oscar W (Elisabeth Vilhelmina Berg)\n",
       "9                  Nasser, Mrs. Nicholas (Adele Achem)\n",
       "Name: Name, dtype: object"
      ]
     },
     "execution_count": 4,
     "metadata": {},
     "output_type": "execute_result"
    }
   ],
   "source": [
    "df.Name.head(10)"
   ]
  },
  {
   "cell_type": "code",
   "execution_count": 5,
   "metadata": {
    "_cell_guid": "bb1fc2fe-1947-4f89-99fa-d621711615fc",
    "_execution_state": "idle",
    "_uuid": "93e6890cecf2d3ae919ec30b24588d780092720d"
   },
   "outputs": [
    {
     "data": {
      "text/plain": [
       "Mr              757\n",
       "Miss            260\n",
       "Mrs             197\n",
       "Master           61\n",
       "Dr                8\n",
       "Rev               8\n",
       "Col               4\n",
       "Major             2\n",
       "Ms                2\n",
       "Mlle              2\n",
       "Dona              1\n",
       "Don               1\n",
       "Lady              1\n",
       "Sir               1\n",
       "the Countess      1\n",
       "Jonkheer          1\n",
       "Capt              1\n",
       "Mme               1\n",
       "Name: Title, dtype: int64"
      ]
     },
     "execution_count": 5,
     "metadata": {},
     "output_type": "execute_result"
    }
   ],
   "source": [
    "df['Title'] = df.Name.map( lambda x: x.split(',')[1].split( '.' )[0].strip())\n",
    "\n",
    "# inspect the amount of people for each title\n",
    "df['Title'].value_counts()"
   ]
  },
  {
   "cell_type": "code",
   "execution_count": 6,
   "metadata": {
    "_cell_guid": "67b67929-d7c3-4d52-9cde-eb37b4ef256d",
    "_execution_state": "idle",
    "_uuid": "a7840964bab69268bcc0e2516770f7faf00aad1d"
   },
   "outputs": [
    {
     "name": "stderr",
     "output_type": "stream",
     "text": [
      "C:\\Users\\shrey\\Anaconda3\\lib\\site-packages\\pandas\\core\\indexing.py:190: SettingWithCopyWarning: \n",
      "A value is trying to be set on a copy of a slice from a DataFrame\n",
      "\n",
      "See the caveats in the documentation: http://pandas.pydata.org/pandas-docs/stable/indexing.html#indexing-view-versus-copy\n",
      "  self._setitem_with_indexer(indexer, value)\n"
     ]
    },
    {
     "data": {
      "text/html": [
       "<div>\n",
       "<style scoped>\n",
       "    .dataframe tbody tr th:only-of-type {\n",
       "        vertical-align: middle;\n",
       "    }\n",
       "\n",
       "    .dataframe tbody tr th {\n",
       "        vertical-align: top;\n",
       "    }\n",
       "\n",
       "    .dataframe thead th {\n",
       "        text-align: right;\n",
       "    }\n",
       "</style>\n",
       "<table border=\"1\" class=\"dataframe\">\n",
       "  <thead>\n",
       "    <tr style=\"text-align: right;\">\n",
       "      <th></th>\n",
       "      <th>Title</th>\n",
       "      <th>Survived</th>\n",
       "    </tr>\n",
       "  </thead>\n",
       "  <tbody>\n",
       "    <tr>\n",
       "      <th>0</th>\n",
       "      <td>Master</td>\n",
       "      <td>0.575000</td>\n",
       "    </tr>\n",
       "    <tr>\n",
       "      <th>1</th>\n",
       "      <td>Miss</td>\n",
       "      <td>0.701087</td>\n",
       "    </tr>\n",
       "    <tr>\n",
       "      <th>2</th>\n",
       "      <td>Mr</td>\n",
       "      <td>0.156673</td>\n",
       "    </tr>\n",
       "    <tr>\n",
       "      <th>3</th>\n",
       "      <td>Mrs</td>\n",
       "      <td>0.796875</td>\n",
       "    </tr>\n",
       "    <tr>\n",
       "      <th>4</th>\n",
       "      <td>Others</td>\n",
       "      <td>0.318182</td>\n",
       "    </tr>\n",
       "  </tbody>\n",
       "</table>\n",
       "</div>"
      ],
      "text/plain": [
       "    Title  Survived\n",
       "0  Master  0.575000\n",
       "1    Miss  0.701087\n",
       "2      Mr  0.156673\n",
       "3     Mrs  0.796875\n",
       "4  Others  0.318182"
      ]
     },
     "execution_count": 6,
     "metadata": {},
     "output_type": "execute_result"
    }
   ],
   "source": [
    "df['Title'] = df['Title'].replace('Mlle', 'Miss')\n",
    "df['Title'] = df['Title'].replace(['Mme','Lady','Ms'], 'Mrs')\n",
    "df.Title.loc[ (df.Title !=  'Master') & (df.Title !=  'Mr') & (df.Title !=  'Miss') \n",
    "             & (df.Title !=  'Mrs')] = 'Others'\n",
    "\n",
    "# inspect the correlation between Title and Survived\n",
    "df[['Title', 'Survived']].groupby(['Title'], as_index=False).mean()"
   ]
  },
  {
   "cell_type": "code",
   "execution_count": 7,
   "metadata": {
    "_cell_guid": "18a55b3d-677f-4611-a41e-be3f9ff49c67",
    "_execution_state": "idle",
    "_uuid": "77a517250b3a9b32da2436b8522e864e4e3e7016"
   },
   "outputs": [
    {
     "data": {
      "text/plain": [
       "Mr        757\n",
       "Miss      262\n",
       "Mrs       201\n",
       "Master     61\n",
       "Others     28\n",
       "Name: Title, dtype: int64"
      ]
     },
     "execution_count": 7,
     "metadata": {},
     "output_type": "execute_result"
    }
   ],
   "source": [
    "# inspect the amount of people for each title\n",
    "df['Title'].value_counts()"
   ]
  },
  {
   "cell_type": "code",
   "execution_count": 8,
   "metadata": {
    "_cell_guid": "516ceeba-2dab-4fff-8f5d-4fe94f4eddc8",
    "_execution_state": "idle",
    "_uuid": "3f031015c4e518d5b0b1874bac37a0d899eb2a60"
   },
   "outputs": [],
   "source": [
    "df = pd.concat([df, pd.get_dummies(df['Title'])], axis=1).drop(labels=['Name'], axis=1)"
   ]
  },
  {
   "cell_type": "code",
   "execution_count": 9,
   "metadata": {
    "_cell_guid": "79870c7d-e04f-4269-bf4d-ff314bfc1e96",
    "_execution_state": "idle",
    "_uuid": "c8262045e243302a4d4e84426c4b8c2932a0702b"
   },
   "outputs": [
    {
     "data": {
      "text/plain": [
       "0"
      ]
     },
     "execution_count": 9,
     "metadata": {},
     "output_type": "execute_result"
    }
   ],
   "source": [
    "# check if there is any NAN\n",
    "df.Sex.isnull().sum(axis=0)"
   ]
  },
  {
   "cell_type": "code",
   "execution_count": 10,
   "metadata": {
    "_cell_guid": "fbf9e34d-01cd-4004-a509-cbc94b66edbc",
    "_execution_state": "idle",
    "_uuid": "ff1e3b6673013d9ab3d16f113c3bc57520572d4a"
   },
   "outputs": [
    {
     "data": {
      "text/html": [
       "<div>\n",
       "<style scoped>\n",
       "    .dataframe tbody tr th:only-of-type {\n",
       "        vertical-align: middle;\n",
       "    }\n",
       "\n",
       "    .dataframe tbody tr th {\n",
       "        vertical-align: top;\n",
       "    }\n",
       "\n",
       "    .dataframe thead th {\n",
       "        text-align: right;\n",
       "    }\n",
       "</style>\n",
       "<table border=\"1\" class=\"dataframe\">\n",
       "  <thead>\n",
       "    <tr style=\"text-align: right;\">\n",
       "      <th></th>\n",
       "      <th>Sex</th>\n",
       "      <th>Survived</th>\n",
       "    </tr>\n",
       "  </thead>\n",
       "  <tbody>\n",
       "    <tr>\n",
       "      <th>0</th>\n",
       "      <td>female</td>\n",
       "      <td>0.742038</td>\n",
       "    </tr>\n",
       "    <tr>\n",
       "      <th>1</th>\n",
       "      <td>male</td>\n",
       "      <td>0.188908</td>\n",
       "    </tr>\n",
       "  </tbody>\n",
       "</table>\n",
       "</div>"
      ],
      "text/plain": [
       "      Sex  Survived\n",
       "0  female  0.742038\n",
       "1    male  0.188908"
      ]
     },
     "execution_count": 10,
     "metadata": {},
     "output_type": "execute_result"
    }
   ],
   "source": [
    "# inspect the correlation between Sex and Survived\n",
    "df[['Sex', 'Survived']].groupby(['Sex'], as_index=False).mean()"
   ]
  },
  {
   "cell_type": "code",
   "execution_count": 11,
   "metadata": {
    "_cell_guid": "b083a394-d2d4-4449-b745-77854545c825",
    "_execution_state": "idle",
    "_uuid": "4d5e24fded5c0296f278a2b8100c896c88050635"
   },
   "outputs": [],
   "source": [
    "# map the two genders to 0 and 1\n",
    "df.Sex = df.Sex.map({'male':0, 'female':1})"
   ]
  },
  {
   "cell_type": "code",
   "execution_count": 12,
   "metadata": {
    "_cell_guid": "8ba1f221-c912-4eac-a944-6b0afa88a382",
    "_execution_state": "idle",
    "_uuid": "30bc1b17267fb3eb668f4d383b649ecca05051a3"
   },
   "outputs": [
    {
     "data": {
      "text/plain": [
       "263"
      ]
     },
     "execution_count": 12,
     "metadata": {},
     "output_type": "execute_result"
    }
   ],
   "source": [
    "# check if there is any NAN\n",
    "df.Age.isnull().sum(axis=0)"
   ]
  },
  {
   "cell_type": "code",
   "execution_count": 13,
   "metadata": {
    "_cell_guid": "a4e895a6-47cf-4641-8228-14ea595a9ea2",
    "_execution_state": "idle",
    "_uuid": "a6cc2c00d763ac3f55f349f21d5679dfd9b5359b"
   },
   "outputs": [
    {
     "data": {
      "text/plain": [
       "(0, 0)"
      ]
     },
     "execution_count": 13,
     "metadata": {},
     "output_type": "execute_result"
    }
   ],
   "source": [
    "# check if there is any NAN\n",
    "df.SibSp.isnull().sum(axis=0), df.Parch.isnull().sum(axis=0)"
   ]
  },
  {
   "cell_type": "code",
   "execution_count": 14,
   "metadata": {
    "_cell_guid": "cca00b7a-da36-4903-a025-ef4c50dab61e",
    "_execution_state": "idle",
    "_uuid": "03437dedc00ad11570635e56ae79faee105bd808"
   },
   "outputs": [
    {
     "data": {
      "text/html": [
       "<div>\n",
       "<style scoped>\n",
       "    .dataframe tbody tr th:only-of-type {\n",
       "        vertical-align: middle;\n",
       "    }\n",
       "\n",
       "    .dataframe tbody tr th {\n",
       "        vertical-align: top;\n",
       "    }\n",
       "\n",
       "    .dataframe thead th {\n",
       "        text-align: right;\n",
       "    }\n",
       "</style>\n",
       "<table border=\"1\" class=\"dataframe\">\n",
       "  <thead>\n",
       "    <tr style=\"text-align: right;\">\n",
       "      <th></th>\n",
       "      <th>Family</th>\n",
       "      <th>Survived</th>\n",
       "    </tr>\n",
       "  </thead>\n",
       "  <tbody>\n",
       "    <tr>\n",
       "      <th>0</th>\n",
       "      <td>1</td>\n",
       "      <td>0.303538</td>\n",
       "    </tr>\n",
       "    <tr>\n",
       "      <th>1</th>\n",
       "      <td>2</td>\n",
       "      <td>0.552795</td>\n",
       "    </tr>\n",
       "    <tr>\n",
       "      <th>2</th>\n",
       "      <td>3</td>\n",
       "      <td>0.578431</td>\n",
       "    </tr>\n",
       "    <tr>\n",
       "      <th>3</th>\n",
       "      <td>4</td>\n",
       "      <td>0.724138</td>\n",
       "    </tr>\n",
       "    <tr>\n",
       "      <th>4</th>\n",
       "      <td>5</td>\n",
       "      <td>0.200000</td>\n",
       "    </tr>\n",
       "    <tr>\n",
       "      <th>5</th>\n",
       "      <td>6</td>\n",
       "      <td>0.136364</td>\n",
       "    </tr>\n",
       "    <tr>\n",
       "      <th>6</th>\n",
       "      <td>7</td>\n",
       "      <td>0.333333</td>\n",
       "    </tr>\n",
       "    <tr>\n",
       "      <th>7</th>\n",
       "      <td>8</td>\n",
       "      <td>0.000000</td>\n",
       "    </tr>\n",
       "    <tr>\n",
       "      <th>8</th>\n",
       "      <td>11</td>\n",
       "      <td>0.000000</td>\n",
       "    </tr>\n",
       "  </tbody>\n",
       "</table>\n",
       "</div>"
      ],
      "text/plain": [
       "   Family  Survived\n",
       "0       1  0.303538\n",
       "1       2  0.552795\n",
       "2       3  0.578431\n",
       "3       4  0.724138\n",
       "4       5  0.200000\n",
       "5       6  0.136364\n",
       "6       7  0.333333\n",
       "7       8  0.000000\n",
       "8      11  0.000000"
      ]
     },
     "execution_count": 14,
     "metadata": {},
     "output_type": "execute_result"
    }
   ],
   "source": [
    "# create a new feature \"Family\"\n",
    "df['Family'] = df['SibSp'] + df['Parch'] + 1\n",
    "\n",
    "# inspect the correlation between Family and Survived\n",
    "df[['Family', 'Survived']].groupby(['Family'], as_index=False).mean()"
   ]
  },
  {
   "cell_type": "code",
   "execution_count": 15,
   "metadata": {
    "_cell_guid": "5217e017-3029-4fbe-afc6-3315d5937431",
    "_execution_state": "idle",
    "_uuid": "5099b2a2783647bce53f71acb07af846641b3c87"
   },
   "outputs": [
    {
     "data": {
      "text/plain": [
       "1     790\n",
       "2     235\n",
       "3     159\n",
       "4      43\n",
       "6      25\n",
       "5      22\n",
       "7      16\n",
       "11     11\n",
       "8       8\n",
       "Name: Family, dtype: int64"
      ]
     },
     "execution_count": 15,
     "metadata": {},
     "output_type": "execute_result"
    }
   ],
   "source": [
    "# inspect the amount of people for each Family size\n",
    "df['Family'].value_counts()"
   ]
  },
  {
   "cell_type": "code",
   "execution_count": 16,
   "metadata": {
    "_cell_guid": "88730abd-facd-4842-ba22-6fab5e2ec332",
    "_execution_state": "idle",
    "_uuid": "2df0bad861e11098213fcbb90a7787504c793a9b"
   },
   "outputs": [
    {
     "data": {
      "text/html": [
       "<div>\n",
       "<style scoped>\n",
       "    .dataframe tbody tr th:only-of-type {\n",
       "        vertical-align: middle;\n",
       "    }\n",
       "\n",
       "    .dataframe tbody tr th {\n",
       "        vertical-align: top;\n",
       "    }\n",
       "\n",
       "    .dataframe thead th {\n",
       "        text-align: right;\n",
       "    }\n",
       "</style>\n",
       "<table border=\"1\" class=\"dataframe\">\n",
       "  <thead>\n",
       "    <tr style=\"text-align: right;\">\n",
       "      <th></th>\n",
       "      <th>Family</th>\n",
       "      <th>Survived</th>\n",
       "    </tr>\n",
       "  </thead>\n",
       "  <tbody>\n",
       "    <tr>\n",
       "      <th>0</th>\n",
       "      <td>0</td>\n",
       "      <td>0.161290</td>\n",
       "    </tr>\n",
       "    <tr>\n",
       "      <th>1</th>\n",
       "      <td>1</td>\n",
       "      <td>0.303538</td>\n",
       "    </tr>\n",
       "    <tr>\n",
       "      <th>2</th>\n",
       "      <td>2</td>\n",
       "      <td>0.552795</td>\n",
       "    </tr>\n",
       "    <tr>\n",
       "      <th>3</th>\n",
       "      <td>3</td>\n",
       "      <td>0.578431</td>\n",
       "    </tr>\n",
       "    <tr>\n",
       "      <th>4</th>\n",
       "      <td>4</td>\n",
       "      <td>0.724138</td>\n",
       "    </tr>\n",
       "  </tbody>\n",
       "</table>\n",
       "</div>"
      ],
      "text/plain": [
       "   Family  Survived\n",
       "0       0  0.161290\n",
       "1       1  0.303538\n",
       "2       2  0.552795\n",
       "3       3  0.578431\n",
       "4       4  0.724138"
      ]
     },
     "execution_count": 16,
     "metadata": {},
     "output_type": "execute_result"
    }
   ],
   "source": [
    "df.Family = df.Family.map(lambda x: 0 if x > 4 else x)\n",
    "df[['Family', 'Survived']].groupby(['Family'], as_index=False).mean()"
   ]
  },
  {
   "cell_type": "code",
   "execution_count": 17,
   "metadata": {
    "_cell_guid": "d26de4ea-d9c9-460d-8a2f-f3e388de9b83",
    "_execution_state": "idle",
    "_uuid": "b4055838fa086398aa33e6804cfc2ec871d72fc3"
   },
   "outputs": [
    {
     "data": {
      "text/plain": [
       "1    790\n",
       "2    235\n",
       "3    159\n",
       "0     82\n",
       "4     43\n",
       "Name: Family, dtype: int64"
      ]
     },
     "execution_count": 17,
     "metadata": {},
     "output_type": "execute_result"
    }
   ],
   "source": [
    "df['Family'].value_counts()"
   ]
  },
  {
   "cell_type": "code",
   "execution_count": 18,
   "metadata": {
    "_cell_guid": "3e355a5b-65dc-4072-9cf8-2aa9e2c5c311",
    "_execution_state": "idle",
    "_uuid": "09ad80a90051b181a3ffd1dd7deb7671dbce32b8"
   },
   "outputs": [
    {
     "data": {
      "text/plain": [
       "0"
      ]
     },
     "execution_count": 18,
     "metadata": {},
     "output_type": "execute_result"
    }
   ],
   "source": [
    "# check if there is any NAN\n",
    "df.Ticket.isnull().sum(axis=0)"
   ]
  },
  {
   "cell_type": "code",
   "execution_count": 19,
   "metadata": {
    "_cell_guid": "dce618df-3f32-45a2-814b-ef392c2248b3",
    "_execution_state": "idle",
    "_uuid": "c8f76441795cf10e50a38c538da303a488741d08"
   },
   "outputs": [
    {
     "data": {
      "text/plain": [
       "0            A/5 21171\n",
       "1             PC 17599\n",
       "2     STON/O2. 3101282\n",
       "3               113803\n",
       "4               373450\n",
       "5               330877\n",
       "6                17463\n",
       "7               349909\n",
       "8               347742\n",
       "9               237736\n",
       "10             PP 9549\n",
       "11              113783\n",
       "12           A/5. 2151\n",
       "13              347082\n",
       "14              350406\n",
       "15              248706\n",
       "16              382652\n",
       "17              244373\n",
       "18              345763\n",
       "19                2649\n",
       "Name: Ticket, dtype: object"
      ]
     },
     "execution_count": 19,
     "metadata": {},
     "output_type": "execute_result"
    }
   ],
   "source": [
    "df.Ticket.head(20)"
   ]
  },
  {
   "cell_type": "code",
   "execution_count": 20,
   "metadata": {
    "_cell_guid": "78913d9b-373b-41ad-bb86-2c4e3b18e183",
    "_execution_state": "idle",
    "_uuid": "4200860d04ec1319a5fa456a11ffe1f7138b7eb8"
   },
   "outputs": [
    {
     "data": {
      "text/html": [
       "<div>\n",
       "<style scoped>\n",
       "    .dataframe tbody tr th:only-of-type {\n",
       "        vertical-align: middle;\n",
       "    }\n",
       "\n",
       "    .dataframe tbody tr th {\n",
       "        vertical-align: top;\n",
       "    }\n",
       "\n",
       "    .dataframe thead th {\n",
       "        text-align: right;\n",
       "    }\n",
       "</style>\n",
       "<table border=\"1\" class=\"dataframe\">\n",
       "  <thead>\n",
       "    <tr style=\"text-align: right;\">\n",
       "      <th></th>\n",
       "      <th>Ticket</th>\n",
       "      <th>Survived</th>\n",
       "    </tr>\n",
       "  </thead>\n",
       "  <tbody>\n",
       "    <tr>\n",
       "      <th>0</th>\n",
       "      <td>1</td>\n",
       "      <td>0.630137</td>\n",
       "    </tr>\n",
       "    <tr>\n",
       "      <th>1</th>\n",
       "      <td>2</td>\n",
       "      <td>0.464481</td>\n",
       "    </tr>\n",
       "    <tr>\n",
       "      <th>2</th>\n",
       "      <td>3</td>\n",
       "      <td>0.239203</td>\n",
       "    </tr>\n",
       "    <tr>\n",
       "      <th>3</th>\n",
       "      <td>4</td>\n",
       "      <td>0.200000</td>\n",
       "    </tr>\n",
       "    <tr>\n",
       "      <th>4</th>\n",
       "      <td>5</td>\n",
       "      <td>0.000000</td>\n",
       "    </tr>\n",
       "    <tr>\n",
       "      <th>5</th>\n",
       "      <td>6</td>\n",
       "      <td>0.166667</td>\n",
       "    </tr>\n",
       "    <tr>\n",
       "      <th>6</th>\n",
       "      <td>7</td>\n",
       "      <td>0.111111</td>\n",
       "    </tr>\n",
       "    <tr>\n",
       "      <th>7</th>\n",
       "      <td>8</td>\n",
       "      <td>0.000000</td>\n",
       "    </tr>\n",
       "    <tr>\n",
       "      <th>8</th>\n",
       "      <td>9</td>\n",
       "      <td>1.000000</td>\n",
       "    </tr>\n",
       "    <tr>\n",
       "      <th>9</th>\n",
       "      <td>A</td>\n",
       "      <td>0.068966</td>\n",
       "    </tr>\n",
       "    <tr>\n",
       "      <th>10</th>\n",
       "      <td>C</td>\n",
       "      <td>0.340426</td>\n",
       "    </tr>\n",
       "    <tr>\n",
       "      <th>11</th>\n",
       "      <td>F</td>\n",
       "      <td>0.571429</td>\n",
       "    </tr>\n",
       "    <tr>\n",
       "      <th>12</th>\n",
       "      <td>L</td>\n",
       "      <td>0.250000</td>\n",
       "    </tr>\n",
       "    <tr>\n",
       "      <th>13</th>\n",
       "      <td>P</td>\n",
       "      <td>0.646154</td>\n",
       "    </tr>\n",
       "    <tr>\n",
       "      <th>14</th>\n",
       "      <td>S</td>\n",
       "      <td>0.323077</td>\n",
       "    </tr>\n",
       "    <tr>\n",
       "      <th>15</th>\n",
       "      <td>W</td>\n",
       "      <td>0.153846</td>\n",
       "    </tr>\n",
       "  </tbody>\n",
       "</table>\n",
       "</div>"
      ],
      "text/plain": [
       "   Ticket  Survived\n",
       "0       1  0.630137\n",
       "1       2  0.464481\n",
       "2       3  0.239203\n",
       "3       4  0.200000\n",
       "4       5  0.000000\n",
       "5       6  0.166667\n",
       "6       7  0.111111\n",
       "7       8  0.000000\n",
       "8       9  1.000000\n",
       "9       A  0.068966\n",
       "10      C  0.340426\n",
       "11      F  0.571429\n",
       "12      L  0.250000\n",
       "13      P  0.646154\n",
       "14      S  0.323077\n",
       "15      W  0.153846"
      ]
     },
     "execution_count": 20,
     "metadata": {},
     "output_type": "execute_result"
    }
   ],
   "source": [
    "df.Ticket = df.Ticket.map(lambda x: x[0])\n",
    "\n",
    "# inspect the correlation between Ticket and Survived\n",
    "df[['Ticket', 'Survived']].groupby(['Ticket'], as_index=False).mean()"
   ]
  },
  {
   "cell_type": "code",
   "execution_count": 21,
   "metadata": {
    "_cell_guid": "efd9bf4b-03bb-4f87-b709-f9662a1b2e51",
    "_execution_state": "idle",
    "_uuid": "e0a4426fc762e668c82b46fe9bd41fdb92786fa4"
   },
   "outputs": [
    {
     "data": {
      "text/plain": [
       "3    429\n",
       "2    278\n",
       "1    210\n",
       "S     98\n",
       "P     98\n",
       "C     77\n",
       "A     42\n",
       "W     19\n",
       "F     13\n",
       "7     13\n",
       "4     11\n",
       "6      9\n",
       "L      5\n",
       "5      3\n",
       "9      2\n",
       "8      2\n",
       "Name: Ticket, dtype: int64"
      ]
     },
     "execution_count": 21,
     "metadata": {},
     "output_type": "execute_result"
    }
   ],
   "source": [
    "# inspect the amount of people for each type of tickets\n",
    "df['Ticket'].value_counts()"
   ]
  },
  {
   "cell_type": "code",
   "execution_count": 22,
   "metadata": {
    "_cell_guid": "7d2ecc98-5a2a-4066-87ca-1fe5ca6594d2",
    "_execution_state": "idle",
    "_uuid": "7c911250fe2a3ab1ed23f97acce1cdb855cbc181"
   },
   "outputs": [
    {
     "data": {
      "text/html": [
       "<div>\n",
       "<style scoped>\n",
       "    .dataframe tbody tr th:only-of-type {\n",
       "        vertical-align: middle;\n",
       "    }\n",
       "\n",
       "    .dataframe tbody tr th {\n",
       "        vertical-align: top;\n",
       "    }\n",
       "\n",
       "    .dataframe thead th {\n",
       "        text-align: right;\n",
       "    }\n",
       "</style>\n",
       "<table border=\"1\" class=\"dataframe\">\n",
       "  <thead>\n",
       "    <tr style=\"text-align: right;\">\n",
       "      <th></th>\n",
       "      <th>Ticket</th>\n",
       "      <th>Fare</th>\n",
       "    </tr>\n",
       "  </thead>\n",
       "  <tbody>\n",
       "    <tr>\n",
       "      <th>0</th>\n",
       "      <td>1</td>\n",
       "      <td>65.771211</td>\n",
       "    </tr>\n",
       "    <tr>\n",
       "      <th>1</th>\n",
       "      <td>2</td>\n",
       "      <td>20.235194</td>\n",
       "    </tr>\n",
       "    <tr>\n",
       "      <th>2</th>\n",
       "      <td>3</td>\n",
       "      <td>15.380682</td>\n",
       "    </tr>\n",
       "    <tr>\n",
       "      <th>3</th>\n",
       "      <td>4</td>\n",
       "      <td>16.764036</td>\n",
       "    </tr>\n",
       "    <tr>\n",
       "      <th>4</th>\n",
       "      <td>5</td>\n",
       "      <td>19.262500</td>\n",
       "    </tr>\n",
       "    <tr>\n",
       "      <th>5</th>\n",
       "      <td>6</td>\n",
       "      <td>19.153711</td>\n",
       "    </tr>\n",
       "    <tr>\n",
       "      <th>6</th>\n",
       "      <td>7</td>\n",
       "      <td>9.197438</td>\n",
       "    </tr>\n",
       "    <tr>\n",
       "      <th>7</th>\n",
       "      <td>8</td>\n",
       "      <td>8.397900</td>\n",
       "    </tr>\n",
       "    <tr>\n",
       "      <th>8</th>\n",
       "      <td>9</td>\n",
       "      <td>7.750000</td>\n",
       "    </tr>\n",
       "    <tr>\n",
       "      <th>9</th>\n",
       "      <td>A</td>\n",
       "      <td>10.189681</td>\n",
       "    </tr>\n",
       "    <tr>\n",
       "      <th>10</th>\n",
       "      <td>C</td>\n",
       "      <td>28.152273</td>\n",
       "    </tr>\n",
       "    <tr>\n",
       "      <th>11</th>\n",
       "      <td>F</td>\n",
       "      <td>24.677246</td>\n",
       "    </tr>\n",
       "    <tr>\n",
       "      <th>12</th>\n",
       "      <td>L</td>\n",
       "      <td>1.515000</td>\n",
       "    </tr>\n",
       "    <tr>\n",
       "      <th>13</th>\n",
       "      <td>P</td>\n",
       "      <td>119.698253</td>\n",
       "    </tr>\n",
       "    <tr>\n",
       "      <th>14</th>\n",
       "      <td>S</td>\n",
       "      <td>17.542900</td>\n",
       "    </tr>\n",
       "    <tr>\n",
       "      <th>15</th>\n",
       "      <td>W</td>\n",
       "      <td>31.056579</td>\n",
       "    </tr>\n",
       "  </tbody>\n",
       "</table>\n",
       "</div>"
      ],
      "text/plain": [
       "   Ticket        Fare\n",
       "0       1   65.771211\n",
       "1       2   20.235194\n",
       "2       3   15.380682\n",
       "3       4   16.764036\n",
       "4       5   19.262500\n",
       "5       6   19.153711\n",
       "6       7    9.197438\n",
       "7       8    8.397900\n",
       "8       9    7.750000\n",
       "9       A   10.189681\n",
       "10      C   28.152273\n",
       "11      F   24.677246\n",
       "12      L    1.515000\n",
       "13      P  119.698253\n",
       "14      S   17.542900\n",
       "15      W   31.056579"
      ]
     },
     "execution_count": 22,
     "metadata": {},
     "output_type": "execute_result"
    }
   ],
   "source": [
    "df[['Ticket', 'Fare']].groupby(['Ticket'], as_index=False).mean()"
   ]
  },
  {
   "cell_type": "code",
   "execution_count": 23,
   "metadata": {
    "_cell_guid": "21e8a215-01a0-45d0-bc41-20f4a25aa509",
    "_execution_state": "idle",
    "_uuid": "d809da11e565b2524707b4086121c45f880a5554"
   },
   "outputs": [
    {
     "data": {
      "text/html": [
       "<div>\n",
       "<style scoped>\n",
       "    .dataframe tbody tr th:only-of-type {\n",
       "        vertical-align: middle;\n",
       "    }\n",
       "\n",
       "    .dataframe tbody tr th {\n",
       "        vertical-align: top;\n",
       "    }\n",
       "\n",
       "    .dataframe thead th {\n",
       "        text-align: right;\n",
       "    }\n",
       "</style>\n",
       "<table border=\"1\" class=\"dataframe\">\n",
       "  <thead>\n",
       "    <tr style=\"text-align: right;\">\n",
       "      <th></th>\n",
       "      <th>Ticket</th>\n",
       "      <th>Pclass</th>\n",
       "    </tr>\n",
       "  </thead>\n",
       "  <tbody>\n",
       "    <tr>\n",
       "      <th>0</th>\n",
       "      <td>1</td>\n",
       "      <td>1.147619</td>\n",
       "    </tr>\n",
       "    <tr>\n",
       "      <th>1</th>\n",
       "      <td>2</td>\n",
       "      <td>2.309353</td>\n",
       "    </tr>\n",
       "    <tr>\n",
       "      <th>2</th>\n",
       "      <td>3</td>\n",
       "      <td>2.904429</td>\n",
       "    </tr>\n",
       "    <tr>\n",
       "      <th>3</th>\n",
       "      <td>4</td>\n",
       "      <td>3.000000</td>\n",
       "    </tr>\n",
       "    <tr>\n",
       "      <th>4</th>\n",
       "      <td>5</td>\n",
       "      <td>2.333333</td>\n",
       "    </tr>\n",
       "    <tr>\n",
       "      <th>5</th>\n",
       "      <td>6</td>\n",
       "      <td>2.111111</td>\n",
       "    </tr>\n",
       "    <tr>\n",
       "      <th>6</th>\n",
       "      <td>7</td>\n",
       "      <td>3.000000</td>\n",
       "    </tr>\n",
       "    <tr>\n",
       "      <th>7</th>\n",
       "      <td>8</td>\n",
       "      <td>3.000000</td>\n",
       "    </tr>\n",
       "    <tr>\n",
       "      <th>8</th>\n",
       "      <td>9</td>\n",
       "      <td>3.000000</td>\n",
       "    </tr>\n",
       "    <tr>\n",
       "      <th>9</th>\n",
       "      <td>A</td>\n",
       "      <td>3.000000</td>\n",
       "    </tr>\n",
       "    <tr>\n",
       "      <th>10</th>\n",
       "      <td>C</td>\n",
       "      <td>2.558442</td>\n",
       "    </tr>\n",
       "    <tr>\n",
       "      <th>11</th>\n",
       "      <td>F</td>\n",
       "      <td>1.846154</td>\n",
       "    </tr>\n",
       "    <tr>\n",
       "      <th>12</th>\n",
       "      <td>L</td>\n",
       "      <td>3.000000</td>\n",
       "    </tr>\n",
       "    <tr>\n",
       "      <th>13</th>\n",
       "      <td>P</td>\n",
       "      <td>1.102041</td>\n",
       "    </tr>\n",
       "    <tr>\n",
       "      <th>14</th>\n",
       "      <td>S</td>\n",
       "      <td>2.561224</td>\n",
       "    </tr>\n",
       "    <tr>\n",
       "      <th>15</th>\n",
       "      <td>W</td>\n",
       "      <td>2.315789</td>\n",
       "    </tr>\n",
       "  </tbody>\n",
       "</table>\n",
       "</div>"
      ],
      "text/plain": [
       "   Ticket    Pclass\n",
       "0       1  1.147619\n",
       "1       2  2.309353\n",
       "2       3  2.904429\n",
       "3       4  3.000000\n",
       "4       5  2.333333\n",
       "5       6  2.111111\n",
       "6       7  3.000000\n",
       "7       8  3.000000\n",
       "8       9  3.000000\n",
       "9       A  3.000000\n",
       "10      C  2.558442\n",
       "11      F  1.846154\n",
       "12      L  3.000000\n",
       "13      P  1.102041\n",
       "14      S  2.561224\n",
       "15      W  2.315789"
      ]
     },
     "execution_count": 23,
     "metadata": {},
     "output_type": "execute_result"
    }
   ],
   "source": [
    "df[['Ticket', 'Pclass']].groupby(['Ticket'], as_index=False).mean()"
   ]
  },
  {
   "cell_type": "code",
   "execution_count": 24,
   "metadata": {
    "_cell_guid": "c245d17f-4245-4afa-a779-9256ce72057b",
    "_execution_state": "idle",
    "_uuid": "2f3a3c7dd4140e492f7b56ea21a25b0e54b3af8c"
   },
   "outputs": [
    {
     "data": {
      "text/plain": [
       "1"
      ]
     },
     "execution_count": 24,
     "metadata": {},
     "output_type": "execute_result"
    }
   ],
   "source": [
    "# check if there is any NAN\n",
    "df.Fare.isnull().sum(axis=0)"
   ]
  },
  {
   "cell_type": "code",
   "execution_count": 25,
   "metadata": {
    "_cell_guid": "fcedc1d2-1fc9-4d15-bda6-4e0c7a8c1b79",
    "_execution_state": "idle",
    "_uuid": "279a4049e39c1350bbfb47815f4dc8bd64d84d76"
   },
   "outputs": [
    {
     "data": {
      "text/plain": [
       "1043    3\n",
       "Name: Ticket, dtype: object"
      ]
     },
     "execution_count": 25,
     "metadata": {},
     "output_type": "execute_result"
    }
   ],
   "source": [
    "df.Ticket[df.Fare.isnull()]"
   ]
  },
  {
   "cell_type": "code",
   "execution_count": 26,
   "metadata": {
    "_cell_guid": "4809801d-6cae-47d3-bd02-9a9c615f99c6",
    "_execution_state": "idle",
    "_uuid": "056b56f133204ca80786d24925efbc93c3b7f399"
   },
   "outputs": [
    {
     "data": {
      "text/plain": [
       "1043    3\n",
       "Name: Pclass, dtype: int64"
      ]
     },
     "execution_count": 26,
     "metadata": {},
     "output_type": "execute_result"
    }
   ],
   "source": [
    "df.Pclass[df.Fare.isnull()]"
   ]
  },
  {
   "cell_type": "code",
   "execution_count": 27,
   "metadata": {
    "_cell_guid": "9a90fe36-97a8-4378-8a1b-a11324d429e5",
    "_execution_state": "idle",
    "_uuid": "7ca9047deed61252837c0c85afa81ffcac8766c1"
   },
   "outputs": [
    {
     "data": {
      "text/plain": [
       "1043    NaN\n",
       "Name: Cabin, dtype: object"
      ]
     },
     "execution_count": 27,
     "metadata": {},
     "output_type": "execute_result"
    }
   ],
   "source": [
    "df.Cabin[df.Fare.isnull()]"
   ]
  },
  {
   "cell_type": "code",
   "execution_count": 28,
   "metadata": {
    "_cell_guid": "2d51f02f-bcb3-424d-a18b-a251e63aacc9",
    "_execution_state": "idle",
    "_uuid": "481f6e7941608bff1133d8adf1354229b1a115fc"
   },
   "outputs": [
    {
     "data": {
      "text/plain": [
       "1043    S\n",
       "Name: Embarked, dtype: object"
      ]
     },
     "execution_count": 28,
     "metadata": {},
     "output_type": "execute_result"
    }
   ],
   "source": [
    "df.Embarked[df.Fare.isnull()]"
   ]
  },
  {
   "cell_type": "code",
   "execution_count": 29,
   "metadata": {
    "_cell_guid": "6f9d5841-adf8-4c9c-9c59-39715827a0ad",
    "_execution_state": "idle",
    "_uuid": "0835a6f504f77c8d42245b5a9346e169bdc302a3"
   },
   "outputs": [
    {
     "data": {
      "image/png": "[encoded data removed]",
      "text/plain": [
       "<Figure size 432x288 with 1 Axes>"
      ]
     },
     "metadata": {
      "needs_background": "light"
     },
     "output_type": "display_data"
    }
   ],
   "source": [
    "# use boxplot to visualize the distribution of Fare for each Pclass\n",
    "sns.boxplot('Pclass','Fare',data=df)\n",
    "plt.ylim(0, 300) # ignore one data point with Fare > 500\n",
    "plt.show()"
   ]
  },
  {
   "cell_type": "code",
   "execution_count": 30,
   "metadata": {
    "_cell_guid": "137bcdac-da05-49e6-8aed-6b4061f40c16",
    "_execution_state": "idle",
    "_uuid": "13c768161562d3c2c77a3f0ec8647e9dbf3eb146"
   },
   "outputs": [
    {
     "data": {
      "text/html": [
       "<div>\n",
       "<style scoped>\n",
       "    .dataframe tbody tr th:only-of-type {\n",
       "        vertical-align: middle;\n",
       "    }\n",
       "\n",
       "    .dataframe tbody tr th {\n",
       "        vertical-align: top;\n",
       "    }\n",
       "\n",
       "    .dataframe thead th {\n",
       "        text-align: right;\n",
       "    }\n",
       "</style>\n",
       "<table border=\"1\" class=\"dataframe\">\n",
       "  <thead>\n",
       "    <tr style=\"text-align: right;\">\n",
       "      <th></th>\n",
       "      <th>Fare</th>\n",
       "    </tr>\n",
       "    <tr>\n",
       "      <th>Pclass</th>\n",
       "      <th></th>\n",
       "    </tr>\n",
       "  </thead>\n",
       "  <tbody>\n",
       "    <tr>\n",
       "      <th>1</th>\n",
       "      <td>87.508992</td>\n",
       "    </tr>\n",
       "    <tr>\n",
       "      <th>2</th>\n",
       "      <td>21.179196</td>\n",
       "    </tr>\n",
       "    <tr>\n",
       "      <th>3</th>\n",
       "      <td>13.302889</td>\n",
       "    </tr>\n",
       "  </tbody>\n",
       "</table>\n",
       "</div>"
      ],
      "text/plain": [
       "             Fare\n",
       "Pclass           \n",
       "1       87.508992\n",
       "2       21.179196\n",
       "3       13.302889"
      ]
     },
     "execution_count": 30,
     "metadata": {},
     "output_type": "execute_result"
    }
   ],
   "source": [
    "# inspect the correlation between Pclass and Fare\n",
    "df[['Pclass', 'Fare']].groupby(['Pclass']).mean()"
   ]
  },
  {
   "cell_type": "code",
   "execution_count": 31,
   "metadata": {
    "_cell_guid": "95b35c28-1a17-4995-8d76-0160b07f4a68",
    "_execution_state": "idle",
    "_uuid": "a187382bb74abb543ec58f1b56c78a3c7767564b"
   },
   "outputs": [
    {
     "data": {
      "text/html": [
       "<div>\n",
       "<style scoped>\n",
       "    .dataframe tbody tr th:only-of-type {\n",
       "        vertical-align: middle;\n",
       "    }\n",
       "\n",
       "    .dataframe tbody tr th {\n",
       "        vertical-align: top;\n",
       "    }\n",
       "\n",
       "    .dataframe thead th {\n",
       "        text-align: right;\n",
       "    }\n",
       "</style>\n",
       "<table border=\"1\" class=\"dataframe\">\n",
       "  <thead>\n",
       "    <tr style=\"text-align: right;\">\n",
       "      <th></th>\n",
       "      <th>Fare</th>\n",
       "    </tr>\n",
       "    <tr>\n",
       "      <th>Pclass</th>\n",
       "      <th></th>\n",
       "    </tr>\n",
       "  </thead>\n",
       "  <tbody>\n",
       "    <tr>\n",
       "      <th>1</th>\n",
       "      <td>0.919302</td>\n",
       "    </tr>\n",
       "    <tr>\n",
       "      <th>2</th>\n",
       "      <td>0.642476</td>\n",
       "    </tr>\n",
       "    <tr>\n",
       "      <th>3</th>\n",
       "      <td>0.864050</td>\n",
       "    </tr>\n",
       "  </tbody>\n",
       "</table>\n",
       "</div>"
      ],
      "text/plain": [
       "            Fare\n",
       "Pclass          \n",
       "1       0.919302\n",
       "2       0.642476\n",
       "3       0.864050"
      ]
     },
     "execution_count": 31,
     "metadata": {},
     "output_type": "execute_result"
    }
   ],
   "source": [
    "# divide the standard deviation by the mean. A lower ratio means a tighter \n",
    "# distribution of Fare in each Pclass\n",
    "df[['Pclass', 'Fare']].groupby(['Pclass']).std() / df[['Pclass', 'Fare']].groupby(['Pclass']).mean()"
   ]
  },
  {
   "cell_type": "code",
   "execution_count": 32,
   "metadata": {
    "_cell_guid": "9a40bab3-eee7-43e6-acdc-d70066aa8a34",
    "_execution_state": "idle",
    "_uuid": "47d8265715f80a20ede4648c53021ad5a509889e"
   },
   "outputs": [
    {
     "data": {
      "image/png": "[encoded data removed]",
      "text/plain": [
       "<Figure size 432x288 with 1 Axes>"
      ]
     },
     "metadata": {
      "needs_background": "light"
     },
     "output_type": "display_data"
    }
   ],
   "source": [
    "# use boxplot to visualize the distribution of Fare for each Ticket\n",
    "sns.boxplot('Ticket','Fare',data=df)\n",
    "plt.ylim(0, 300) # ignore one data point with Fare > 500\n",
    "plt.show()"
   ]
  },
  {
   "cell_type": "code",
   "execution_count": 33,
   "metadata": {
    "_cell_guid": "0c52113f-bf33-4187-9393-49e050b0503c",
    "_execution_state": "idle",
    "_uuid": "3f7e7fb7ee1879e529ca16e7af2d72f4131f759f"
   },
   "outputs": [
    {
     "data": {
      "text/html": [
       "<div>\n",
       "<style scoped>\n",
       "    .dataframe tbody tr th:only-of-type {\n",
       "        vertical-align: middle;\n",
       "    }\n",
       "\n",
       "    .dataframe tbody tr th {\n",
       "        vertical-align: top;\n",
       "    }\n",
       "\n",
       "    .dataframe thead th {\n",
       "        text-align: right;\n",
       "    }\n",
       "</style>\n",
       "<table border=\"1\" class=\"dataframe\">\n",
       "  <thead>\n",
       "    <tr style=\"text-align: right;\">\n",
       "      <th></th>\n",
       "      <th>Fare</th>\n",
       "    </tr>\n",
       "    <tr>\n",
       "      <th>Ticket</th>\n",
       "      <th></th>\n",
       "    </tr>\n",
       "  </thead>\n",
       "  <tbody>\n",
       "    <tr>\n",
       "      <th>1</th>\n",
       "      <td>65.771211</td>\n",
       "    </tr>\n",
       "    <tr>\n",
       "      <th>2</th>\n",
       "      <td>20.235194</td>\n",
       "    </tr>\n",
       "    <tr>\n",
       "      <th>3</th>\n",
       "      <td>15.380682</td>\n",
       "    </tr>\n",
       "    <tr>\n",
       "      <th>4</th>\n",
       "      <td>16.764036</td>\n",
       "    </tr>\n",
       "    <tr>\n",
       "      <th>5</th>\n",
       "      <td>19.262500</td>\n",
       "    </tr>\n",
       "    <tr>\n",
       "      <th>6</th>\n",
       "      <td>19.153711</td>\n",
       "    </tr>\n",
       "    <tr>\n",
       "      <th>7</th>\n",
       "      <td>9.197438</td>\n",
       "    </tr>\n",
       "    <tr>\n",
       "      <th>8</th>\n",
       "      <td>8.397900</td>\n",
       "    </tr>\n",
       "    <tr>\n",
       "      <th>9</th>\n",
       "      <td>7.750000</td>\n",
       "    </tr>\n",
       "    <tr>\n",
       "      <th>A</th>\n",
       "      <td>10.189681</td>\n",
       "    </tr>\n",
       "    <tr>\n",
       "      <th>C</th>\n",
       "      <td>28.152273</td>\n",
       "    </tr>\n",
       "    <tr>\n",
       "      <th>F</th>\n",
       "      <td>24.677246</td>\n",
       "    </tr>\n",
       "    <tr>\n",
       "      <th>L</th>\n",
       "      <td>1.515000</td>\n",
       "    </tr>\n",
       "    <tr>\n",
       "      <th>P</th>\n",
       "      <td>119.698253</td>\n",
       "    </tr>\n",
       "    <tr>\n",
       "      <th>S</th>\n",
       "      <td>17.542900</td>\n",
       "    </tr>\n",
       "    <tr>\n",
       "      <th>W</th>\n",
       "      <td>31.056579</td>\n",
       "    </tr>\n",
       "  </tbody>\n",
       "</table>\n",
       "</div>"
      ],
      "text/plain": [
       "              Fare\n",
       "Ticket            \n",
       "1        65.771211\n",
       "2        20.235194\n",
       "3        15.380682\n",
       "4        16.764036\n",
       "5        19.262500\n",
       "6        19.153711\n",
       "7         9.197438\n",
       "8         8.397900\n",
       "9         7.750000\n",
       "A        10.189681\n",
       "C        28.152273\n",
       "F        24.677246\n",
       "L         1.515000\n",
       "P       119.698253\n",
       "S        17.542900\n",
       "W        31.056579"
      ]
     },
     "execution_count": 33,
     "metadata": {},
     "output_type": "execute_result"
    }
   ],
   "source": [
    "# inspect the correlation between Ticket and Fare \n",
    "# (we saw this earlier)\n",
    "df[['Ticket', 'Fare']].groupby(['Ticket']).mean()"
   ]
  },
  {
   "cell_type": "code",
   "execution_count": 34,
   "metadata": {
    "_cell_guid": "cbd10230-dda2-4819-b330-3e67a6bef4a4",
    "_execution_state": "idle",
    "_uuid": "c6407a63d494490385a0024f572f3d3b7c1c5dc1"
   },
   "outputs": [
    {
     "data": {
      "text/html": [
       "<div>\n",
       "<style scoped>\n",
       "    .dataframe tbody tr th:only-of-type {\n",
       "        vertical-align: middle;\n",
       "    }\n",
       "\n",
       "    .dataframe tbody tr th {\n",
       "        vertical-align: top;\n",
       "    }\n",
       "\n",
       "    .dataframe thead th {\n",
       "        text-align: right;\n",
       "    }\n",
       "</style>\n",
       "<table border=\"1\" class=\"dataframe\">\n",
       "  <thead>\n",
       "    <tr style=\"text-align: right;\">\n",
       "      <th></th>\n",
       "      <th>Fare</th>\n",
       "    </tr>\n",
       "    <tr>\n",
       "      <th>Ticket</th>\n",
       "      <th></th>\n",
       "    </tr>\n",
       "  </thead>\n",
       "  <tbody>\n",
       "    <tr>\n",
       "      <th>1</th>\n",
       "      <td>0.817411</td>\n",
       "    </tr>\n",
       "    <tr>\n",
       "      <th>2</th>\n",
       "      <td>1.284139</td>\n",
       "    </tr>\n",
       "    <tr>\n",
       "      <th>3</th>\n",
       "      <td>1.351244</td>\n",
       "    </tr>\n",
       "    <tr>\n",
       "      <th>4</th>\n",
       "      <td>0.497578</td>\n",
       "    </tr>\n",
       "    <tr>\n",
       "      <th>5</th>\n",
       "      <td>0.284367</td>\n",
       "    </tr>\n",
       "    <tr>\n",
       "      <th>6</th>\n",
       "      <td>0.735873</td>\n",
       "    </tr>\n",
       "    <tr>\n",
       "      <th>7</th>\n",
       "      <td>0.080078</td>\n",
       "    </tr>\n",
       "    <tr>\n",
       "      <th>8</th>\n",
       "      <td>0.005961</td>\n",
       "    </tr>\n",
       "    <tr>\n",
       "      <th>9</th>\n",
       "      <td>0.000000</td>\n",
       "    </tr>\n",
       "    <tr>\n",
       "      <th>A</th>\n",
       "      <td>0.466846</td>\n",
       "    </tr>\n",
       "    <tr>\n",
       "      <th>C</th>\n",
       "      <td>0.736299</td>\n",
       "    </tr>\n",
       "    <tr>\n",
       "      <th>F</th>\n",
       "      <td>0.556023</td>\n",
       "    </tr>\n",
       "    <tr>\n",
       "      <th>L</th>\n",
       "      <td>2.236068</td>\n",
       "    </tr>\n",
       "    <tr>\n",
       "      <th>P</th>\n",
       "      <td>0.944596</td>\n",
       "    </tr>\n",
       "    <tr>\n",
       "      <th>S</th>\n",
       "      <td>1.024639</td>\n",
       "    </tr>\n",
       "    <tr>\n",
       "      <th>W</th>\n",
       "      <td>0.676999</td>\n",
       "    </tr>\n",
       "  </tbody>\n",
       "</table>\n",
       "</div>"
      ],
      "text/plain": [
       "            Fare\n",
       "Ticket          \n",
       "1       0.817411\n",
       "2       1.284139\n",
       "3       1.351244\n",
       "4       0.497578\n",
       "5       0.284367\n",
       "6       0.735873\n",
       "7       0.080078\n",
       "8       0.005961\n",
       "9       0.000000\n",
       "A       0.466846\n",
       "C       0.736299\n",
       "F       0.556023\n",
       "L       2.236068\n",
       "P       0.944596\n",
       "S       1.024639\n",
       "W       0.676999"
      ]
     },
     "execution_count": 34,
     "metadata": {},
     "output_type": "execute_result"
    }
   ],
   "source": [
    "# divide the standard deviation by the mean. A lower ratio means a tighter \n",
    "# distribution of Fare in each Ticket type\n",
    "df[['Ticket', 'Fare']].groupby(['Ticket']).std() /  df[['Ticket', 'Fare']].groupby(['Ticket']).mean()"
   ]
  },
  {
   "cell_type": "code",
   "execution_count": 35,
   "metadata": {
    "_cell_guid": "43b41c45-b149-44da-a031-42b409966f28",
    "_execution_state": "idle",
    "_uuid": "84e953d33cf72578729f20c54cb8c2e8c29bcb54"
   },
   "outputs": [
    {
     "data": {
      "image/png": "[encoded data removed]",
      "text/plain": [
       "<Figure size 432x288 with 1 Axes>"
      ]
     },
     "metadata": {
      "needs_background": "light"
     },
     "output_type": "display_data"
    }
   ],
   "source": [
    "# use boxplot to visualize the distribution of Fare for each Embarked\n",
    "sns.boxplot('Embarked','Fare',data=df)\n",
    "plt.ylim(0, 300) # ignore one data point with Fare > 500\n",
    "plt.show()"
   ]
  },
  {
   "cell_type": "code",
   "execution_count": 36,
   "metadata": {
    "_cell_guid": "c4eb229d-67fc-423f-8d67-5d415e30ee53",
    "_execution_state": "idle",
    "_uuid": "c025b7ada92e44d73f768eaa49d39c49fb1dfd0c"
   },
   "outputs": [
    {
     "data": {
      "text/html": [
       "<div>\n",
       "<style scoped>\n",
       "    .dataframe tbody tr th:only-of-type {\n",
       "        vertical-align: middle;\n",
       "    }\n",
       "\n",
       "    .dataframe tbody tr th {\n",
       "        vertical-align: top;\n",
       "    }\n",
       "\n",
       "    .dataframe thead th {\n",
       "        text-align: right;\n",
       "    }\n",
       "</style>\n",
       "<table border=\"1\" class=\"dataframe\">\n",
       "  <thead>\n",
       "    <tr style=\"text-align: right;\">\n",
       "      <th></th>\n",
       "      <th>Fare</th>\n",
       "    </tr>\n",
       "    <tr>\n",
       "      <th>Embarked</th>\n",
       "      <th></th>\n",
       "    </tr>\n",
       "  </thead>\n",
       "  <tbody>\n",
       "    <tr>\n",
       "      <th>C</th>\n",
       "      <td>62.336267</td>\n",
       "    </tr>\n",
       "    <tr>\n",
       "      <th>Q</th>\n",
       "      <td>12.409012</td>\n",
       "    </tr>\n",
       "    <tr>\n",
       "      <th>S</th>\n",
       "      <td>27.418824</td>\n",
       "    </tr>\n",
       "  </tbody>\n",
       "</table>\n",
       "</div>"
      ],
      "text/plain": [
       "               Fare\n",
       "Embarked           \n",
       "C         62.336267\n",
       "Q         12.409012\n",
       "S         27.418824"
      ]
     },
     "execution_count": 36,
     "metadata": {},
     "output_type": "execute_result"
    }
   ],
   "source": [
    "# inspect the correlation between Embarked and Fare\n",
    "df[['Embarked', 'Fare']].groupby(['Embarked']).mean()"
   ]
  },
  {
   "cell_type": "code",
   "execution_count": 37,
   "metadata": {
    "_cell_guid": "e34bef31-0dea-4c44-877e-98a72bd53036",
    "_execution_state": "idle",
    "_uuid": "af43b5c1114f3912f0c6b6015e53c12affb86ce5"
   },
   "outputs": [
    {
     "data": {
      "text/html": [
       "<div>\n",
       "<style scoped>\n",
       "    .dataframe tbody tr th:only-of-type {\n",
       "        vertical-align: middle;\n",
       "    }\n",
       "\n",
       "    .dataframe tbody tr th {\n",
       "        vertical-align: top;\n",
       "    }\n",
       "\n",
       "    .dataframe thead th {\n",
       "        text-align: right;\n",
       "    }\n",
       "</style>\n",
       "<table border=\"1\" class=\"dataframe\">\n",
       "  <thead>\n",
       "    <tr style=\"text-align: right;\">\n",
       "      <th></th>\n",
       "      <th>Fare</th>\n",
       "    </tr>\n",
       "    <tr>\n",
       "      <th>Embarked</th>\n",
       "      <th></th>\n",
       "    </tr>\n",
       "  </thead>\n",
       "  <tbody>\n",
       "    <tr>\n",
       "      <th>C</th>\n",
       "      <td>1.350514</td>\n",
       "    </tr>\n",
       "    <tr>\n",
       "      <th>Q</th>\n",
       "      <td>1.097278</td>\n",
       "    </tr>\n",
       "    <tr>\n",
       "      <th>S</th>\n",
       "      <td>1.352954</td>\n",
       "    </tr>\n",
       "  </tbody>\n",
       "</table>\n",
       "</div>"
      ],
      "text/plain": [
       "              Fare\n",
       "Embarked          \n",
       "C         1.350514\n",
       "Q         1.097278\n",
       "S         1.352954"
      ]
     },
     "execution_count": 37,
     "metadata": {},
     "output_type": "execute_result"
    }
   ],
   "source": [
    "# divide the standard deviation by the mean. A lower ratio means a tighter \n",
    "# distribution of Fare in each Embarked\n",
    "df[['Embarked', 'Fare']].groupby(['Embarked']).std() /  df[['Embarked', 'Fare']].groupby(['Embarked']).mean()"
   ]
  },
  {
   "cell_type": "code",
   "execution_count": 38,
   "metadata": {
    "_cell_guid": "16822339-ab02-4799-b4ba-8c2ae824bb03",
    "_execution_state": "idle",
    "_uuid": "f277be6f1b7c6e16d77dc0353f885f28906e229a"
   },
   "outputs": [
    {
     "data": {
      "text/html": [
       "<div>\n",
       "<style scoped>\n",
       "    .dataframe tbody tr th:only-of-type {\n",
       "        vertical-align: middle;\n",
       "    }\n",
       "\n",
       "    .dataframe tbody tr th {\n",
       "        vertical-align: top;\n",
       "    }\n",
       "\n",
       "    .dataframe thead th {\n",
       "        text-align: right;\n",
       "    }\n",
       "</style>\n",
       "<table border=\"1\" class=\"dataframe\">\n",
       "  <thead>\n",
       "    <tr style=\"text-align: right;\">\n",
       "      <th></th>\n",
       "      <th>Survived</th>\n",
       "      <th>Fare</th>\n",
       "    </tr>\n",
       "  </thead>\n",
       "  <tbody>\n",
       "    <tr>\n",
       "      <th>0</th>\n",
       "      <td>0.0</td>\n",
       "      <td>22.117887</td>\n",
       "    </tr>\n",
       "    <tr>\n",
       "      <th>1</th>\n",
       "      <td>1.0</td>\n",
       "      <td>48.395408</td>\n",
       "    </tr>\n",
       "  </tbody>\n",
       "</table>\n",
       "</div>"
      ],
      "text/plain": [
       "   Survived       Fare\n",
       "0       0.0  22.117887\n",
       "1       1.0  48.395408"
      ]
     },
     "execution_count": 38,
     "metadata": {},
     "output_type": "execute_result"
    }
   ],
   "source": [
    "guess_Fare = df.Fare.loc[ (df.Ticket == '3') & (df.Pclass == 3) & (df.Embarked == 'S')].median()\n",
    "df.Fare.fillna(guess_Fare , inplace=True)\n",
    "\n",
    "# inspect the mean Fare values for people who died and survived\n",
    "df[['Fare', 'Survived']].groupby(['Survived'],as_index=False).mean()"
   ]
  },
  {
   "cell_type": "code",
   "execution_count": 39,
   "metadata": {
    "_cell_guid": "e8477ab2-68ca-4632-835f-ba8df5a6ba36",
    "_execution_state": "idle",
    "_uuid": "2e55f9e20c72a0d8621b838ed15386c7ce3be9b4"
   },
   "outputs": [
    {
     "name": "stderr",
     "output_type": "stream",
     "text": [
      "C:\\Users\\shrey\\Anaconda3\\lib\\site-packages\\seaborn\\axisgrid.py:230: UserWarning: The `size` paramter has been renamed to `height`; please update your code.\n",
      "  warnings.warn(msg, UserWarning)\n"
     ]
    },
    {
     "data": {
      "image/png": "[encoded data removed]",
      "text/plain": [
       "<Figure size 483.875x288 with 1 Axes>"
      ]
     },
     "metadata": {
      "needs_background": "light"
     },
     "output_type": "display_data"
    }
   ],
   "source": [
    "# visualize the distribution of Fare for people who survived and died\n",
    "grid = sns.FacetGrid(df, hue='Survived', size=4, aspect=1.5)\n",
    "grid.map(plt.hist, 'Fare', alpha=.5, bins=range(0,210,10))\n",
    "grid.add_legend()\n",
    "plt.show()"
   ]
  },
  {
   "cell_type": "code",
   "execution_count": 40,
   "metadata": {
    "_cell_guid": "0269e823-86a3-442b-b48c-dc659c8b2005",
    "_execution_state": "idle",
    "_uuid": "61e09e2b4fc7a0a1f31a3b066e80656794d73702"
   },
   "outputs": [
    {
     "data": {
      "image/png": "[encoded data removed]",
      "text/plain": [
       "<Figure size 432x288 with 1 Axes>"
      ]
     },
     "metadata": {
      "needs_background": "light"
     },
     "output_type": "display_data"
    }
   ],
   "source": [
    "# visualize the correlation between Fare and Survived using a scatter plot\n",
    "df[['Fare', 'Survived']].groupby(['Fare'],as_index=False).mean().plot.scatter('Fare','Survived')\n",
    "plt.show()"
   ]
  },
  {
   "cell_type": "code",
   "execution_count": 41,
   "metadata": {
    "_cell_guid": "dfa08997-c349-4a56-b69d-1b32b9945730",
    "_execution_state": "idle",
    "_uuid": "5cd244995e5442dc614ce8dbcf4907d66b285345"
   },
   "outputs": [
    {
     "data": {
      "text/html": [
       "<div>\n",
       "<style scoped>\n",
       "    .dataframe tbody tr th:only-of-type {\n",
       "        vertical-align: middle;\n",
       "    }\n",
       "\n",
       "    .dataframe tbody tr th {\n",
       "        vertical-align: top;\n",
       "    }\n",
       "\n",
       "    .dataframe thead th {\n",
       "        text-align: right;\n",
       "    }\n",
       "</style>\n",
       "<table border=\"1\" class=\"dataframe\">\n",
       "  <thead>\n",
       "    <tr style=\"text-align: right;\">\n",
       "      <th></th>\n",
       "      <th>Fare-bin</th>\n",
       "      <th>Survived</th>\n",
       "    </tr>\n",
       "  </thead>\n",
       "  <tbody>\n",
       "    <tr>\n",
       "      <th>0</th>\n",
       "      <td>1</td>\n",
       "      <td>0.217877</td>\n",
       "    </tr>\n",
       "    <tr>\n",
       "      <th>1</th>\n",
       "      <td>2</td>\n",
       "      <td>0.201087</td>\n",
       "    </tr>\n",
       "    <tr>\n",
       "      <th>2</th>\n",
       "      <td>3</td>\n",
       "      <td>0.426901</td>\n",
       "    </tr>\n",
       "    <tr>\n",
       "      <th>3</th>\n",
       "      <td>4</td>\n",
       "      <td>0.443243</td>\n",
       "    </tr>\n",
       "    <tr>\n",
       "      <th>4</th>\n",
       "      <td>5</td>\n",
       "      <td>0.645349</td>\n",
       "    </tr>\n",
       "  </tbody>\n",
       "</table>\n",
       "</div>"
      ],
      "text/plain": [
       "   Fare-bin  Survived\n",
       "0         1  0.217877\n",
       "1         2  0.201087\n",
       "2         3  0.426901\n",
       "3         4  0.443243\n",
       "4         5  0.645349"
      ]
     },
     "execution_count": 41,
     "metadata": {},
     "output_type": "execute_result"
    }
   ],
   "source": [
    "# bin Fare into five intervals with equal amount of people\n",
    "df['Fare-bin'] = pd.qcut(df.Fare,5,labels=[1,2,3,4,5]).astype(int)\n",
    "\n",
    "# inspect the correlation between Fare-bin and Survived\n",
    "df[['Fare-bin', 'Survived']].groupby(['Fare-bin'], as_index=False).mean()"
   ]
  },
  {
   "cell_type": "code",
   "execution_count": 42,
   "metadata": {
    "_cell_guid": "cf7344e8-76ba-4ce7-807e-272f49272423",
    "_execution_state": "idle",
    "_uuid": "dc0da43c475aa71894141aa6578e22b01a99750e"
   },
   "outputs": [
    {
     "data": {
      "text/plain": [
       "1014"
      ]
     },
     "execution_count": 42,
     "metadata": {},
     "output_type": "execute_result"
    }
   ],
   "source": [
    "# check if there is any NAN\n",
    "df.Cabin.isnull().sum(axis=0)"
   ]
  },
  {
   "cell_type": "code",
   "execution_count": 43,
   "metadata": {
    "_cell_guid": "eed848fb-b155-41b2-be78-d04334111893",
    "_execution_state": "idle",
    "_uuid": "742f1b8d7a6e09087135754b14da0e9137b9a981"
   },
   "outputs": [],
   "source": [
    "df = df.drop(labels=['Cabin'], axis=1)"
   ]
  },
  {
   "cell_type": "code",
   "execution_count": 44,
   "metadata": {
    "_cell_guid": "8a8baacb-bcc3-439f-a540-0f5baac20b91",
    "_execution_state": "idle",
    "_uuid": "e1d3efbfad7ee51433326e86de59e2b9e8d5fb21"
   },
   "outputs": [
    {
     "data": {
      "text/plain": [
       "2"
      ]
     },
     "execution_count": 44,
     "metadata": {},
     "output_type": "execute_result"
    }
   ],
   "source": [
    "# check if there is any NAN\n",
    "df.Embarked.isnull().sum(axis=0)"
   ]
  },
  {
   "cell_type": "code",
   "execution_count": 45,
   "metadata": {
    "_cell_guid": "f7df232f-1f39-4aa6-8285-dcaa0c320e16",
    "_execution_state": "idle",
    "_uuid": "b21097135f1b6199b0b341ef12a88398b0c8f7ad"
   },
   "outputs": [
    {
     "data": {
      "text/html": [
       "<div>\n",
       "<style scoped>\n",
       "    .dataframe tbody tr th:only-of-type {\n",
       "        vertical-align: middle;\n",
       "    }\n",
       "\n",
       "    .dataframe tbody tr th {\n",
       "        vertical-align: top;\n",
       "    }\n",
       "\n",
       "    .dataframe thead th {\n",
       "        text-align: right;\n",
       "    }\n",
       "</style>\n",
       "<table border=\"1\" class=\"dataframe\">\n",
       "  <thead>\n",
       "    <tr style=\"text-align: right;\">\n",
       "      <th></th>\n",
       "      <th>Embarked</th>\n",
       "      <th>Ticket</th>\n",
       "      <th>Title</th>\n",
       "    </tr>\n",
       "  </thead>\n",
       "  <tbody>\n",
       "    <tr>\n",
       "      <th>count</th>\n",
       "      <td>1307</td>\n",
       "      <td>1309</td>\n",
       "      <td>1309</td>\n",
       "    </tr>\n",
       "    <tr>\n",
       "      <th>unique</th>\n",
       "      <td>3</td>\n",
       "      <td>16</td>\n",
       "      <td>5</td>\n",
       "    </tr>\n",
       "    <tr>\n",
       "      <th>top</th>\n",
       "      <td>S</td>\n",
       "      <td>3</td>\n",
       "      <td>Mr</td>\n",
       "    </tr>\n",
       "    <tr>\n",
       "      <th>freq</th>\n",
       "      <td>914</td>\n",
       "      <td>429</td>\n",
       "      <td>757</td>\n",
       "    </tr>\n",
       "  </tbody>\n",
       "</table>\n",
       "</div>"
      ],
      "text/plain": [
       "       Embarked Ticket Title\n",
       "count      1307   1309  1309\n",
       "unique        3     16     5\n",
       "top           S      3    Mr\n",
       "freq        914    429   757"
      ]
     },
     "execution_count": 45,
     "metadata": {},
     "output_type": "execute_result"
    }
   ],
   "source": [
    "df.describe(include=['O']) # S is the most common"
   ]
  },
  {
   "cell_type": "code",
   "execution_count": 46,
   "metadata": {
    "_cell_guid": "d65d5808-4d12-4a6c-8aa5-d67bd800a6fe",
    "_execution_state": "idle",
    "_uuid": "0833afac0ae691222f5436be2645a8e9120ca736"
   },
   "outputs": [],
   "source": [
    "# fill the NAN\n",
    "df.Embarked.fillna('S' , inplace=True )"
   ]
  },
  {
   "cell_type": "code",
   "execution_count": 47,
   "metadata": {
    "_cell_guid": "c5a5acd2-47f4-4eda-8cee-7f5759a80ec1",
    "_execution_state": "idle",
    "_uuid": "49fe53c86777c9b62b94a5b559ce15006368458d"
   },
   "outputs": [
    {
     "data": {
      "text/html": [
       "<div>\n",
       "<style scoped>\n",
       "    .dataframe tbody tr th:only-of-type {\n",
       "        vertical-align: middle;\n",
       "    }\n",
       "\n",
       "    .dataframe tbody tr th {\n",
       "        vertical-align: top;\n",
       "    }\n",
       "\n",
       "    .dataframe thead th {\n",
       "        text-align: right;\n",
       "    }\n",
       "</style>\n",
       "<table border=\"1\" class=\"dataframe\">\n",
       "  <thead>\n",
       "    <tr style=\"text-align: right;\">\n",
       "      <th></th>\n",
       "      <th>Embarked</th>\n",
       "      <th>Survived</th>\n",
       "      <th>Pclass</th>\n",
       "      <th>Fare</th>\n",
       "      <th>Age</th>\n",
       "      <th>Sex</th>\n",
       "    </tr>\n",
       "  </thead>\n",
       "  <tbody>\n",
       "    <tr>\n",
       "      <th>0</th>\n",
       "      <td>C</td>\n",
       "      <td>0.553571</td>\n",
       "      <td>1.851852</td>\n",
       "      <td>62.336267</td>\n",
       "      <td>32.332170</td>\n",
       "      <td>0.418519</td>\n",
       "    </tr>\n",
       "    <tr>\n",
       "      <th>1</th>\n",
       "      <td>Q</td>\n",
       "      <td>0.389610</td>\n",
       "      <td>2.894309</td>\n",
       "      <td>12.409012</td>\n",
       "      <td>28.630000</td>\n",
       "      <td>0.487805</td>\n",
       "    </tr>\n",
       "    <tr>\n",
       "      <th>2</th>\n",
       "      <td>S</td>\n",
       "      <td>0.339009</td>\n",
       "      <td>2.344978</td>\n",
       "      <td>27.512485</td>\n",
       "      <td>29.298151</td>\n",
       "      <td>0.319869</td>\n",
       "    </tr>\n",
       "  </tbody>\n",
       "</table>\n",
       "</div>"
      ],
      "text/plain": [
       "  Embarked  Survived    Pclass       Fare        Age       Sex\n",
       "0        C  0.553571  1.851852  62.336267  32.332170  0.418519\n",
       "1        Q  0.389610  2.894309  12.409012  28.630000  0.487805\n",
       "2        S  0.339009  2.344978  27.512485  29.298151  0.319869"
      ]
     },
     "execution_count": 47,
     "metadata": {},
     "output_type": "execute_result"
    }
   ],
   "source": [
    "# inspect the correlation between Embarked and Survived as well as some other features\n",
    "df[['Embarked', 'Survived','Pclass','Fare', 'Age', 'Sex']].groupby(['Embarked'], as_index=False).mean()"
   ]
  },
  {
   "cell_type": "code",
   "execution_count": 48,
   "metadata": {
    "_cell_guid": "2a43f956-9690-4869-bd67-442c338bc57a",
    "_execution_state": "idle",
    "_uuid": "1426a18aa9b7a7dd0f18b260ec13f2d245f3a5a4"
   },
   "outputs": [],
   "source": [
    "df = df.drop(labels='Embarked', axis=1)"
   ]
  },
  {
   "cell_type": "code",
   "execution_count": 49,
   "metadata": {
    "_cell_guid": "c8fd62bb-30ea-4675-a593-771c6b8c8333",
    "_execution_state": "idle",
    "_uuid": "0972d4354355d154e63aa5ec97565260898749f5"
   },
   "outputs": [
    {
     "data": {
      "image/png": "[encoded data removed]",
      "text/plain": [
       "<Figure size 864x216 with 5 Axes>"
      ]
     },
     "metadata": {
      "needs_background": "light"
     },
     "output_type": "display_data"
    }
   ],
   "source": [
    "# visualize the correlation between Title and Age\n",
    "grid = sns.FacetGrid(df, col='Title', size=3, aspect=0.8, sharey=False)\n",
    "grid.map(plt.hist, 'Age', alpha=.5, bins=range(0,105,5))\n",
    "plt.show()"
   ]
  },
  {
   "cell_type": "code",
   "execution_count": 50,
   "metadata": {
    "_cell_guid": "770f5c78-948f-4261-ae6f-dda0a05da8e6",
    "_execution_state": "idle",
    "_uuid": "9b312ecc51104501196e3f6806abc92d29e9eb46"
   },
   "outputs": [
    {
     "data": {
      "text/html": [
       "<div>\n",
       "<style scoped>\n",
       "    .dataframe tbody tr th:only-of-type {\n",
       "        vertical-align: middle;\n",
       "    }\n",
       "\n",
       "    .dataframe tbody tr th {\n",
       "        vertical-align: top;\n",
       "    }\n",
       "\n",
       "    .dataframe thead th {\n",
       "        text-align: right;\n",
       "    }\n",
       "</style>\n",
       "<table border=\"1\" class=\"dataframe\">\n",
       "  <thead>\n",
       "    <tr style=\"text-align: right;\">\n",
       "      <th></th>\n",
       "      <th>Age</th>\n",
       "    </tr>\n",
       "    <tr>\n",
       "      <th>Title</th>\n",
       "      <th></th>\n",
       "    </tr>\n",
       "  </thead>\n",
       "  <tbody>\n",
       "    <tr>\n",
       "      <th>Master</th>\n",
       "      <td>5.482642</td>\n",
       "    </tr>\n",
       "    <tr>\n",
       "      <th>Miss</th>\n",
       "      <td>21.795236</td>\n",
       "    </tr>\n",
       "    <tr>\n",
       "      <th>Mr</th>\n",
       "      <td>32.252151</td>\n",
       "    </tr>\n",
       "    <tr>\n",
       "      <th>Mrs</th>\n",
       "      <td>36.930636</td>\n",
       "    </tr>\n",
       "    <tr>\n",
       "      <th>Others</th>\n",
       "      <td>45.074074</td>\n",
       "    </tr>\n",
       "  </tbody>\n",
       "</table>\n",
       "</div>"
      ],
      "text/plain": [
       "              Age\n",
       "Title            \n",
       "Master   5.482642\n",
       "Miss    21.795236\n",
       "Mr      32.252151\n",
       "Mrs     36.930636\n",
       "Others  45.074074"
      ]
     },
     "execution_count": 50,
     "metadata": {},
     "output_type": "execute_result"
    }
   ],
   "source": [
    "# inspect the mean Age for each Title\n",
    "df[['Title', 'Age']].groupby(['Title']).mean()"
   ]
  },
  {
   "cell_type": "code",
   "execution_count": 51,
   "metadata": {
    "_cell_guid": "b81954da-2e36-410f-9505-c6b7ae26803f",
    "_execution_state": "idle",
    "_uuid": "ba25e608acce46fba9b0c623f8b62b91f29151a7"
   },
   "outputs": [
    {
     "data": {
      "text/html": [
       "<div>\n",
       "<style scoped>\n",
       "    .dataframe tbody tr th:only-of-type {\n",
       "        vertical-align: middle;\n",
       "    }\n",
       "\n",
       "    .dataframe tbody tr th {\n",
       "        vertical-align: top;\n",
       "    }\n",
       "\n",
       "    .dataframe thead th {\n",
       "        text-align: right;\n",
       "    }\n",
       "</style>\n",
       "<table border=\"1\" class=\"dataframe\">\n",
       "  <thead>\n",
       "    <tr style=\"text-align: right;\">\n",
       "      <th></th>\n",
       "      <th>Age</th>\n",
       "    </tr>\n",
       "    <tr>\n",
       "      <th>Title</th>\n",
       "      <th></th>\n",
       "    </tr>\n",
       "  </thead>\n",
       "  <tbody>\n",
       "    <tr>\n",
       "      <th>Master</th>\n",
       "      <td>4.161554</td>\n",
       "    </tr>\n",
       "    <tr>\n",
       "      <th>Miss</th>\n",
       "      <td>12.192794</td>\n",
       "    </tr>\n",
       "    <tr>\n",
       "      <th>Mr</th>\n",
       "      <td>12.422089</td>\n",
       "    </tr>\n",
       "    <tr>\n",
       "      <th>Mrs</th>\n",
       "      <td>12.872625</td>\n",
       "    </tr>\n",
       "    <tr>\n",
       "      <th>Others</th>\n",
       "      <td>11.303253</td>\n",
       "    </tr>\n",
       "  </tbody>\n",
       "</table>\n",
       "</div>"
      ],
      "text/plain": [
       "              Age\n",
       "Title            \n",
       "Master   4.161554\n",
       "Miss    12.192794\n",
       "Mr      12.422089\n",
       "Mrs     12.872625\n",
       "Others  11.303253"
      ]
     },
     "execution_count": 51,
     "metadata": {},
     "output_type": "execute_result"
    }
   ],
   "source": [
    "# inspect the standard deviation of Age for each Title\n",
    "df[['Title', 'Age']].groupby(['Title']).std()"
   ]
  },
  {
   "cell_type": "code",
   "execution_count": 52,
   "metadata": {
    "_cell_guid": "38208976-cd0d-4756-aebc-5d980d7357a5",
    "_execution_state": "idle",
    "_uuid": "3d9ea40ed50748bfac7990788916d49eb3886174"
   },
   "outputs": [
    {
     "data": {
      "image/png": "[encoded data removed]",
      "text/plain": [
       "<Figure size 864x216 with 5 Axes>"
      ]
     },
     "metadata": {
      "needs_background": "light"
     },
     "output_type": "display_data"
    }
   ],
   "source": [
    "# visualize the correlation between Fare-bin and Age\n",
    "grid = sns.FacetGrid(df, col='Fare-bin', size=3, aspect=0.8, sharey=False)\n",
    "grid.map(plt.hist, 'Age', alpha=.5, bins=range(0,105,5))\n",
    "plt.show()"
   ]
  },
  {
   "cell_type": "code",
   "execution_count": 53,
   "metadata": {
    "_cell_guid": "d63fb4e1-0c8d-423d-bf93-5821b08fde51",
    "_execution_state": "idle",
    "_uuid": "d8472c4371963ccdc90498b657d3f7f26e9f1e99"
   },
   "outputs": [
    {
     "data": {
      "text/html": [
       "<div>\n",
       "<style scoped>\n",
       "    .dataframe tbody tr th:only-of-type {\n",
       "        vertical-align: middle;\n",
       "    }\n",
       "\n",
       "    .dataframe tbody tr th {\n",
       "        vertical-align: top;\n",
       "    }\n",
       "\n",
       "    .dataframe thead th {\n",
       "        text-align: right;\n",
       "    }\n",
       "</style>\n",
       "<table border=\"1\" class=\"dataframe\">\n",
       "  <thead>\n",
       "    <tr style=\"text-align: right;\">\n",
       "      <th></th>\n",
       "      <th>Age</th>\n",
       "    </tr>\n",
       "    <tr>\n",
       "      <th>Fare-bin</th>\n",
       "      <th></th>\n",
       "    </tr>\n",
       "  </thead>\n",
       "  <tbody>\n",
       "    <tr>\n",
       "      <th>1</th>\n",
       "      <td>27.848315</td>\n",
       "    </tr>\n",
       "    <tr>\n",
       "      <th>2</th>\n",
       "      <td>27.898241</td>\n",
       "    </tr>\n",
       "    <tr>\n",
       "      <th>3</th>\n",
       "      <td>26.144009</td>\n",
       "    </tr>\n",
       "    <tr>\n",
       "      <th>4</th>\n",
       "      <td>30.728604</td>\n",
       "    </tr>\n",
       "    <tr>\n",
       "      <th>5</th>\n",
       "      <td>35.877913</td>\n",
       "    </tr>\n",
       "  </tbody>\n",
       "</table>\n",
       "</div>"
      ],
      "text/plain": [
       "                Age\n",
       "Fare-bin           \n",
       "1         27.848315\n",
       "2         27.898241\n",
       "3         26.144009\n",
       "4         30.728604\n",
       "5         35.877913"
      ]
     },
     "execution_count": 53,
     "metadata": {},
     "output_type": "execute_result"
    }
   ],
   "source": [
    "# inspect the mean Age for each Fare-bin\n",
    "df[['Fare-bin', 'Age']].groupby(['Fare-bin']).mean()"
   ]
  },
  {
   "cell_type": "code",
   "execution_count": 54,
   "metadata": {
    "_cell_guid": "40a7c6d6-c3ae-46f0-baef-352ff8509783",
    "_execution_state": "idle",
    "_uuid": "3fb0839aa1bb049ea5998f458ad939272a736345"
   },
   "outputs": [
    {
     "data": {
      "text/html": [
       "<div>\n",
       "<style scoped>\n",
       "    .dataframe tbody tr th:only-of-type {\n",
       "        vertical-align: middle;\n",
       "    }\n",
       "\n",
       "    .dataframe tbody tr th {\n",
       "        vertical-align: top;\n",
       "    }\n",
       "\n",
       "    .dataframe thead th {\n",
       "        text-align: right;\n",
       "    }\n",
       "</style>\n",
       "<table border=\"1\" class=\"dataframe\">\n",
       "  <thead>\n",
       "    <tr style=\"text-align: right;\">\n",
       "      <th></th>\n",
       "      <th>Age</th>\n",
       "    </tr>\n",
       "    <tr>\n",
       "      <th>Fare-bin</th>\n",
       "      <th></th>\n",
       "    </tr>\n",
       "  </thead>\n",
       "  <tbody>\n",
       "    <tr>\n",
       "      <th>1</th>\n",
       "      <td>10.812580</td>\n",
       "    </tr>\n",
       "    <tr>\n",
       "      <th>2</th>\n",
       "      <td>10.995650</td>\n",
       "    </tr>\n",
       "    <tr>\n",
       "      <th>3</th>\n",
       "      <td>13.523208</td>\n",
       "    </tr>\n",
       "    <tr>\n",
       "      <th>4</th>\n",
       "      <td>17.466022</td>\n",
       "    </tr>\n",
       "    <tr>\n",
       "      <th>5</th>\n",
       "      <td>15.150724</td>\n",
       "    </tr>\n",
       "  </tbody>\n",
       "</table>\n",
       "</div>"
      ],
      "text/plain": [
       "                Age\n",
       "Fare-bin           \n",
       "1         10.812580\n",
       "2         10.995650\n",
       "3         13.523208\n",
       "4         17.466022\n",
       "5         15.150724"
      ]
     },
     "execution_count": 54,
     "metadata": {},
     "output_type": "execute_result"
    }
   ],
   "source": [
    "# inspect the standard deviation of Age for each Fare-bin\n",
    "df[['Fare-bin', 'Age']].groupby(['Fare-bin']).std()"
   ]
  },
  {
   "cell_type": "code",
   "execution_count": 55,
   "metadata": {
    "_cell_guid": "37c1feaf-efa8-467a-8fe3-90b8773bde01",
    "_execution_state": "idle",
    "_uuid": "cab042b668d7f35dd2b778162835bcb5a0bc1aed"
   },
   "outputs": [
    {
     "data": {
      "image/png": "[encoded data removed]",
      "text/plain": [
       "<Figure size 691.2x432 with 7 Axes>"
      ]
     },
     "metadata": {
      "needs_background": "light"
     },
     "output_type": "display_data"
    }
   ],
   "source": [
    "# visualize the correlation between SibSp and Age\n",
    "grid = sns.FacetGrid(df, col='SibSp', col_wrap=4, size=3.0, aspect=0.8, sharey=False)\n",
    "grid.map(plt.hist, 'Age', alpha=.5, bins=range(0,105,5))\n",
    "plt.show()"
   ]
  },
  {
   "cell_type": "code",
   "execution_count": 56,
   "metadata": {
    "_cell_guid": "ceab6b91-e6bd-4c0f-b7c2-31847b1ee61b",
    "_execution_state": "idle",
    "_uuid": "612aec4215b2e4c16806aa768ddd1f565fdfe78b"
   },
   "outputs": [
    {
     "data": {
      "text/html": [
       "<div>\n",
       "<style scoped>\n",
       "    .dataframe tbody tr th:only-of-type {\n",
       "        vertical-align: middle;\n",
       "    }\n",
       "\n",
       "    .dataframe tbody tr th {\n",
       "        vertical-align: top;\n",
       "    }\n",
       "\n",
       "    .dataframe thead th {\n",
       "        text-align: right;\n",
       "    }\n",
       "</style>\n",
       "<table border=\"1\" class=\"dataframe\">\n",
       "  <thead>\n",
       "    <tr style=\"text-align: right;\">\n",
       "      <th></th>\n",
       "      <th>Age</th>\n",
       "    </tr>\n",
       "    <tr>\n",
       "      <th>SibSp</th>\n",
       "      <th></th>\n",
       "    </tr>\n",
       "  </thead>\n",
       "  <tbody>\n",
       "    <tr>\n",
       "      <th>0</th>\n",
       "      <td>30.921766</td>\n",
       "    </tr>\n",
       "    <tr>\n",
       "      <th>1</th>\n",
       "      <td>31.058071</td>\n",
       "    </tr>\n",
       "    <tr>\n",
       "      <th>2</th>\n",
       "      <td>23.569444</td>\n",
       "    </tr>\n",
       "    <tr>\n",
       "      <th>3</th>\n",
       "      <td>16.312500</td>\n",
       "    </tr>\n",
       "    <tr>\n",
       "      <th>4</th>\n",
       "      <td>8.772727</td>\n",
       "    </tr>\n",
       "    <tr>\n",
       "      <th>5</th>\n",
       "      <td>10.166667</td>\n",
       "    </tr>\n",
       "    <tr>\n",
       "      <th>8</th>\n",
       "      <td>14.500000</td>\n",
       "    </tr>\n",
       "  </tbody>\n",
       "</table>\n",
       "</div>"
      ],
      "text/plain": [
       "             Age\n",
       "SibSp           \n",
       "0      30.921766\n",
       "1      31.058071\n",
       "2      23.569444\n",
       "3      16.312500\n",
       "4       8.772727\n",
       "5      10.166667\n",
       "8      14.500000"
      ]
     },
     "execution_count": 56,
     "metadata": {},
     "output_type": "execute_result"
    }
   ],
   "source": [
    "# inspect the mean Age for each SibSp\n",
    "df[['SibSp', 'Age']].groupby(['SibSp']).mean()"
   ]
  },
  {
   "cell_type": "code",
   "execution_count": 57,
   "metadata": {
    "_cell_guid": "eb7a277e-0e3c-4507-ba41-2c9d223f293a",
    "_execution_state": "idle",
    "_uuid": "d40475272e30ea20b5eeff47d49a5664a2a8303f"
   },
   "outputs": [
    {
     "data": {
      "text/html": [
       "<div>\n",
       "<style scoped>\n",
       "    .dataframe tbody tr th:only-of-type {\n",
       "        vertical-align: middle;\n",
       "    }\n",
       "\n",
       "    .dataframe tbody tr th {\n",
       "        vertical-align: top;\n",
       "    }\n",
       "\n",
       "    .dataframe thead th {\n",
       "        text-align: right;\n",
       "    }\n",
       "</style>\n",
       "<table border=\"1\" class=\"dataframe\">\n",
       "  <thead>\n",
       "    <tr style=\"text-align: right;\">\n",
       "      <th></th>\n",
       "      <th>Age</th>\n",
       "    </tr>\n",
       "    <tr>\n",
       "      <th>SibSp</th>\n",
       "      <th></th>\n",
       "    </tr>\n",
       "  </thead>\n",
       "  <tbody>\n",
       "    <tr>\n",
       "      <th>0</th>\n",
       "      <td>13.059751</td>\n",
       "    </tr>\n",
       "    <tr>\n",
       "      <th>1</th>\n",
       "      <td>15.974482</td>\n",
       "    </tr>\n",
       "    <tr>\n",
       "      <th>2</th>\n",
       "      <td>14.910640</td>\n",
       "    </tr>\n",
       "    <tr>\n",
       "      <th>3</th>\n",
       "      <td>11.824938</td>\n",
       "    </tr>\n",
       "    <tr>\n",
       "      <th>4</th>\n",
       "      <td>8.005545</td>\n",
       "    </tr>\n",
       "    <tr>\n",
       "      <th>5</th>\n",
       "      <td>5.192944</td>\n",
       "    </tr>\n",
       "    <tr>\n",
       "      <th>8</th>\n",
       "      <td>NaN</td>\n",
       "    </tr>\n",
       "  </tbody>\n",
       "</table>\n",
       "</div>"
      ],
      "text/plain": [
       "             Age\n",
       "SibSp           \n",
       "0      13.059751\n",
       "1      15.974482\n",
       "2      14.910640\n",
       "3      11.824938\n",
       "4       8.005545\n",
       "5       5.192944\n",
       "8            NaN"
      ]
     },
     "execution_count": 57,
     "metadata": {},
     "output_type": "execute_result"
    }
   ],
   "source": [
    "# inspect the standard deviation of Age for each SibSp\n",
    "df[['SibSp', 'Age']].groupby(['SibSp']).std()"
   ]
  },
  {
   "cell_type": "code",
   "execution_count": 58,
   "metadata": {
    "_cell_guid": "ab9d9000-de9f-4ca0-b817-c53184d74c9a",
    "_execution_state": "idle",
    "_uuid": "b2201e9af0c379e0b1bcc0e7a23e08043c241645"
   },
   "outputs": [
    {
     "data": {
      "image/png": "[encoded data removed]",
      "text/plain": [
       "<Figure size 691.2x432 with 8 Axes>"
      ]
     },
     "metadata": {
      "needs_background": "light"
     },
     "output_type": "display_data"
    }
   ],
   "source": [
    "# visualize the correlation between Parch and Age\n",
    "grid = sns.FacetGrid(df, col='Parch', col_wrap=4, size=3.0, aspect=0.8, sharey=False)\n",
    "grid.map(plt.hist, 'Age', alpha=.5, bins=range(0,105,5))\n",
    "plt.show()"
   ]
  },
  {
   "cell_type": "code",
   "execution_count": 59,
   "metadata": {
    "_cell_guid": "38a4399d-3e36-44ab-8269-a10d6b6aecc8",
    "_execution_state": "idle",
    "_uuid": "42db5280471f9bd3acefe047daccfefcd3bf1a00"
   },
   "outputs": [
    {
     "data": {
      "text/html": [
       "<div>\n",
       "<style scoped>\n",
       "    .dataframe tbody tr th:only-of-type {\n",
       "        vertical-align: middle;\n",
       "    }\n",
       "\n",
       "    .dataframe tbody tr th {\n",
       "        vertical-align: top;\n",
       "    }\n",
       "\n",
       "    .dataframe thead th {\n",
       "        text-align: right;\n",
       "    }\n",
       "</style>\n",
       "<table border=\"1\" class=\"dataframe\">\n",
       "  <thead>\n",
       "    <tr style=\"text-align: right;\">\n",
       "      <th></th>\n",
       "      <th>Age</th>\n",
       "    </tr>\n",
       "    <tr>\n",
       "      <th>Parch</th>\n",
       "      <th></th>\n",
       "    </tr>\n",
       "  </thead>\n",
       "  <tbody>\n",
       "    <tr>\n",
       "      <th>0</th>\n",
       "      <td>31.969401</td>\n",
       "    </tr>\n",
       "    <tr>\n",
       "      <th>1</th>\n",
       "      <td>24.965625</td>\n",
       "    </tr>\n",
       "    <tr>\n",
       "      <th>2</th>\n",
       "      <td>18.975979</td>\n",
       "    </tr>\n",
       "    <tr>\n",
       "      <th>3</th>\n",
       "      <td>38.875000</td>\n",
       "    </tr>\n",
       "    <tr>\n",
       "      <th>4</th>\n",
       "      <td>47.600000</td>\n",
       "    </tr>\n",
       "    <tr>\n",
       "      <th>5</th>\n",
       "      <td>39.333333</td>\n",
       "    </tr>\n",
       "    <tr>\n",
       "      <th>6</th>\n",
       "      <td>41.500000</td>\n",
       "    </tr>\n",
       "    <tr>\n",
       "      <th>9</th>\n",
       "      <td>NaN</td>\n",
       "    </tr>\n",
       "  </tbody>\n",
       "</table>\n",
       "</div>"
      ],
      "text/plain": [
       "             Age\n",
       "Parch           \n",
       "0      31.969401\n",
       "1      24.965625\n",
       "2      18.975979\n",
       "3      38.875000\n",
       "4      47.600000\n",
       "5      39.333333\n",
       "6      41.500000\n",
       "9            NaN"
      ]
     },
     "execution_count": 59,
     "metadata": {},
     "output_type": "execute_result"
    }
   ],
   "source": [
    "# inspect the mean Age for each Parch\n",
    "df[['Parch', 'Age']].groupby(['Parch']).mean()"
   ]
  },
  {
   "cell_type": "code",
   "execution_count": 60,
   "metadata": {
    "_cell_guid": "4e914c54-23d4-46dc-9a7e-fc9e0e038254",
    "_execution_state": "idle",
    "_uuid": "79cb7ffd9ea2ac77fe8bae5d7264986be56604ec"
   },
   "outputs": [
    {
     "data": {
      "text/html": [
       "<div>\n",
       "<style scoped>\n",
       "    .dataframe tbody tr th:only-of-type {\n",
       "        vertical-align: middle;\n",
       "    }\n",
       "\n",
       "    .dataframe tbody tr th {\n",
       "        vertical-align: top;\n",
       "    }\n",
       "\n",
       "    .dataframe thead th {\n",
       "        text-align: right;\n",
       "    }\n",
       "</style>\n",
       "<table border=\"1\" class=\"dataframe\">\n",
       "  <thead>\n",
       "    <tr style=\"text-align: right;\">\n",
       "      <th></th>\n",
       "      <th>Age</th>\n",
       "    </tr>\n",
       "    <tr>\n",
       "      <th>Parch</th>\n",
       "      <th></th>\n",
       "    </tr>\n",
       "  </thead>\n",
       "  <tbody>\n",
       "    <tr>\n",
       "      <th>0</th>\n",
       "      <td>12.422617</td>\n",
       "    </tr>\n",
       "    <tr>\n",
       "      <th>1</th>\n",
       "      <td>18.410885</td>\n",
       "    </tr>\n",
       "    <tr>\n",
       "      <th>2</th>\n",
       "      <td>14.564066</td>\n",
       "    </tr>\n",
       "    <tr>\n",
       "      <th>3</th>\n",
       "      <td>16.295815</td>\n",
       "    </tr>\n",
       "    <tr>\n",
       "      <th>4</th>\n",
       "      <td>14.432602</td>\n",
       "    </tr>\n",
       "    <tr>\n",
       "      <th>5</th>\n",
       "      <td>1.032796</td>\n",
       "    </tr>\n",
       "    <tr>\n",
       "      <th>6</th>\n",
       "      <td>2.121320</td>\n",
       "    </tr>\n",
       "    <tr>\n",
       "      <th>9</th>\n",
       "      <td>NaN</td>\n",
       "    </tr>\n",
       "  </tbody>\n",
       "</table>\n",
       "</div>"
      ],
      "text/plain": [
       "             Age\n",
       "Parch           \n",
       "0      12.422617\n",
       "1      18.410885\n",
       "2      14.564066\n",
       "3      16.295815\n",
       "4      14.432602\n",
       "5       1.032796\n",
       "6       2.121320\n",
       "9            NaN"
      ]
     },
     "execution_count": 60,
     "metadata": {},
     "output_type": "execute_result"
    }
   ],
   "source": [
    "# inspect the standard deviation of Age for each Parch\n",
    "df[['Parch', 'Age']].groupby(['Parch']).std() "
   ]
  },
  {
   "cell_type": "code",
   "execution_count": 61,
   "metadata": {
    "_cell_guid": "020c9de0-ff1c-4eed-be20-cbff19cac018",
    "_execution_state": "idle",
    "_uuid": "9334adf52175fe53abf8138378f4a83efaf77ffb"
   },
   "outputs": [
    {
     "name": "stderr",
     "output_type": "stream",
     "text": [
      "C:\\Users\\shrey\\Anaconda3\\lib\\site-packages\\pandas\\core\\indexing.py:190: SettingWithCopyWarning: \n",
      "A value is trying to be set on a copy of a slice from a DataFrame\n",
      "\n",
      "See the caveats in the documentation: http://pandas.pydata.org/pandas-docs/stable/indexing.html#indexing-view-versus-copy\n",
      "  self._setitem_with_indexer(indexer, value)\n"
     ]
    },
    {
     "data": {
      "text/plain": [
       "0"
      ]
     },
     "execution_count": 61,
     "metadata": {},
     "output_type": "execute_result"
    }
   ],
   "source": [
    "df_sub = df[['Age','Master','Miss','Mr','Mrs','Others','Fare-bin','SibSp']]\n",
    "\n",
    "X_train  = df_sub.dropna().drop('Age', axis=1)\n",
    "y_train  = df['Age'].dropna()\n",
    "X_test = df_sub.loc[np.isnan(df.Age)].drop('Age', axis=1)\n",
    "\n",
    "regressor = RandomForestRegressor(n_estimators = 300)\n",
    "regressor.fit(X_train, y_train)\n",
    "y_pred = np.round(regressor.predict(X_test),1)\n",
    "df.Age.loc[df.Age.isnull()] = y_pred\n",
    "\n",
    "df.Age.isnull().sum(axis=0) # no more NAN now"
   ]
  },
  {
   "cell_type": "code",
   "execution_count": 62,
   "metadata": {
    "_cell_guid": "8a4ce8e1-b212-4d6a-8d8b-ad56bf8acf72",
    "_execution_state": "idle",
    "_uuid": "5f9658c201cd82bf031d49803d4045fe847d81e8"
   },
   "outputs": [
    {
     "data": {
      "text/html": [
       "<div>\n",
       "<style scoped>\n",
       "    .dataframe tbody tr th:only-of-type {\n",
       "        vertical-align: middle;\n",
       "    }\n",
       "\n",
       "    .dataframe tbody tr th {\n",
       "        vertical-align: top;\n",
       "    }\n",
       "\n",
       "    .dataframe thead th {\n",
       "        text-align: right;\n",
       "    }\n",
       "</style>\n",
       "<table border=\"1\" class=\"dataframe\">\n",
       "  <thead>\n",
       "    <tr style=\"text-align: right;\">\n",
       "      <th></th>\n",
       "      <th>Age-bin</th>\n",
       "      <th>Survived</th>\n",
       "    </tr>\n",
       "  </thead>\n",
       "  <tbody>\n",
       "    <tr>\n",
       "      <th>0</th>\n",
       "      <td>1</td>\n",
       "      <td>0.675000</td>\n",
       "    </tr>\n",
       "    <tr>\n",
       "      <th>1</th>\n",
       "      <td>2</td>\n",
       "      <td>0.452381</td>\n",
       "    </tr>\n",
       "    <tr>\n",
       "      <th>2</th>\n",
       "      <td>3</td>\n",
       "      <td>0.402597</td>\n",
       "    </tr>\n",
       "    <tr>\n",
       "      <th>3</th>\n",
       "      <td>4</td>\n",
       "      <td>0.315789</td>\n",
       "    </tr>\n",
       "    <tr>\n",
       "      <th>4</th>\n",
       "      <td>5</td>\n",
       "      <td>0.427083</td>\n",
       "    </tr>\n",
       "    <tr>\n",
       "      <th>5</th>\n",
       "      <td>6</td>\n",
       "      <td>0.375000</td>\n",
       "    </tr>\n",
       "    <tr>\n",
       "      <th>6</th>\n",
       "      <td>7</td>\n",
       "      <td>0.125000</td>\n",
       "    </tr>\n",
       "  </tbody>\n",
       "</table>\n",
       "</div>"
      ],
      "text/plain": [
       "   Age-bin  Survived\n",
       "0        1  0.675000\n",
       "1        2  0.452381\n",
       "2        3  0.402597\n",
       "3        4  0.315789\n",
       "4        5  0.427083\n",
       "5        6  0.375000\n",
       "6        7  0.125000"
      ]
     },
     "execution_count": 62,
     "metadata": {},
     "output_type": "execute_result"
    }
   ],
   "source": [
    "bins = [ 0, 4, 12, 18, 30, 50, 65, 100] # This is somewhat arbitrary...\n",
    "age_index = (1,2,3,4,5,6,7)\n",
    "#('baby','child','teenager','young','mid-age','over-50','senior')\n",
    "df['Age-bin'] = pd.cut(df.Age, bins, labels=age_index).astype(int)\n",
    "\n",
    "df[['Age-bin', 'Survived']].groupby(['Age-bin'],as_index=False).mean()"
   ]
  },
  {
   "cell_type": "code",
   "execution_count": 63,
   "metadata": {
    "_cell_guid": "4f3f0831-83e7-44e4-a69e-5f5fe024e122",
    "_execution_state": "idle",
    "_uuid": "a7a0e7795ab628123de85df8cb6c2eac84185165"
   },
   "outputs": [
    {
     "data": {
      "text/html": [
       "<div>\n",
       "<style scoped>\n",
       "    .dataframe tbody tr th:only-of-type {\n",
       "        vertical-align: middle;\n",
       "    }\n",
       "\n",
       "    .dataframe tbody tr th {\n",
       "        vertical-align: top;\n",
       "    }\n",
       "\n",
       "    .dataframe thead th {\n",
       "        text-align: right;\n",
       "    }\n",
       "</style>\n",
       "<table border=\"1\" class=\"dataframe\">\n",
       "  <thead>\n",
       "    <tr style=\"text-align: right;\">\n",
       "      <th></th>\n",
       "      <th>Ticket</th>\n",
       "      <th>Survived</th>\n",
       "    </tr>\n",
       "  </thead>\n",
       "  <tbody>\n",
       "    <tr>\n",
       "      <th>0</th>\n",
       "      <td>1</td>\n",
       "      <td>0.630137</td>\n",
       "    </tr>\n",
       "    <tr>\n",
       "      <th>1</th>\n",
       "      <td>2</td>\n",
       "      <td>0.464481</td>\n",
       "    </tr>\n",
       "    <tr>\n",
       "      <th>2</th>\n",
       "      <td>3</td>\n",
       "      <td>0.239203</td>\n",
       "    </tr>\n",
       "    <tr>\n",
       "      <th>3</th>\n",
       "      <td>4</td>\n",
       "      <td>0.200000</td>\n",
       "    </tr>\n",
       "    <tr>\n",
       "      <th>4</th>\n",
       "      <td>5</td>\n",
       "      <td>0.000000</td>\n",
       "    </tr>\n",
       "    <tr>\n",
       "      <th>5</th>\n",
       "      <td>6</td>\n",
       "      <td>0.166667</td>\n",
       "    </tr>\n",
       "    <tr>\n",
       "      <th>6</th>\n",
       "      <td>7</td>\n",
       "      <td>0.111111</td>\n",
       "    </tr>\n",
       "    <tr>\n",
       "      <th>7</th>\n",
       "      <td>8</td>\n",
       "      <td>0.000000</td>\n",
       "    </tr>\n",
       "    <tr>\n",
       "      <th>8</th>\n",
       "      <td>9</td>\n",
       "      <td>1.000000</td>\n",
       "    </tr>\n",
       "    <tr>\n",
       "      <th>9</th>\n",
       "      <td>A</td>\n",
       "      <td>0.068966</td>\n",
       "    </tr>\n",
       "    <tr>\n",
       "      <th>10</th>\n",
       "      <td>C</td>\n",
       "      <td>0.340426</td>\n",
       "    </tr>\n",
       "    <tr>\n",
       "      <th>11</th>\n",
       "      <td>F</td>\n",
       "      <td>0.571429</td>\n",
       "    </tr>\n",
       "    <tr>\n",
       "      <th>12</th>\n",
       "      <td>L</td>\n",
       "      <td>0.250000</td>\n",
       "    </tr>\n",
       "    <tr>\n",
       "      <th>13</th>\n",
       "      <td>P</td>\n",
       "      <td>0.646154</td>\n",
       "    </tr>\n",
       "    <tr>\n",
       "      <th>14</th>\n",
       "      <td>S</td>\n",
       "      <td>0.323077</td>\n",
       "    </tr>\n",
       "    <tr>\n",
       "      <th>15</th>\n",
       "      <td>W</td>\n",
       "      <td>0.153846</td>\n",
       "    </tr>\n",
       "  </tbody>\n",
       "</table>\n",
       "</div>"
      ],
      "text/plain": [
       "   Ticket  Survived\n",
       "0       1  0.630137\n",
       "1       2  0.464481\n",
       "2       3  0.239203\n",
       "3       4  0.200000\n",
       "4       5  0.000000\n",
       "5       6  0.166667\n",
       "6       7  0.111111\n",
       "7       8  0.000000\n",
       "8       9  1.000000\n",
       "9       A  0.068966\n",
       "10      C  0.340426\n",
       "11      F  0.571429\n",
       "12      L  0.250000\n",
       "13      P  0.646154\n",
       "14      S  0.323077\n",
       "15      W  0.153846"
      ]
     },
     "execution_count": 63,
     "metadata": {},
     "output_type": "execute_result"
    }
   ],
   "source": [
    "df[['Ticket', 'Survived']].groupby(['Ticket'], as_index=False).mean()"
   ]
  },
  {
   "cell_type": "code",
   "execution_count": 64,
   "metadata": {
    "_cell_guid": "7b0bc205-5f92-4ba1-9a52-8c6b2bb91093",
    "_execution_state": "idle",
    "_uuid": "1c5a38e61a105b5ad40fc1f159725c30c65e71bc"
   },
   "outputs": [
    {
     "data": {
      "text/plain": [
       "3    429\n",
       "2    278\n",
       "1    210\n",
       "S     98\n",
       "P     98\n",
       "C     77\n",
       "A     42\n",
       "W     19\n",
       "F     13\n",
       "7     13\n",
       "4     11\n",
       "6      9\n",
       "L      5\n",
       "5      3\n",
       "9      2\n",
       "8      2\n",
       "Name: Ticket, dtype: int64"
      ]
     },
     "execution_count": 64,
     "metadata": {},
     "output_type": "execute_result"
    }
   ],
   "source": [
    "df['Ticket'].value_counts()"
   ]
  },
  {
   "cell_type": "code",
   "execution_count": 65,
   "metadata": {
    "_cell_guid": "58fe643e-abf9-4761-bba1-674d3304aba2",
    "_execution_state": "idle",
    "_uuid": "7f12fa7d7d6ee803835e5768b9da2a92e1468969"
   },
   "outputs": [
    {
     "data": {
      "text/html": [
       "<div>\n",
       "<style scoped>\n",
       "    .dataframe tbody tr th:only-of-type {\n",
       "        vertical-align: middle;\n",
       "    }\n",
       "\n",
       "    .dataframe tbody tr th {\n",
       "        vertical-align: top;\n",
       "    }\n",
       "\n",
       "    .dataframe thead th {\n",
       "        text-align: right;\n",
       "    }\n",
       "</style>\n",
       "<table border=\"1\" class=\"dataframe\">\n",
       "  <thead>\n",
       "    <tr style=\"text-align: right;\">\n",
       "      <th></th>\n",
       "      <th>Ticket</th>\n",
       "      <th>Survived</th>\n",
       "    </tr>\n",
       "  </thead>\n",
       "  <tbody>\n",
       "    <tr>\n",
       "      <th>0</th>\n",
       "      <td>1</td>\n",
       "      <td>0.630137</td>\n",
       "    </tr>\n",
       "    <tr>\n",
       "      <th>1</th>\n",
       "      <td>2</td>\n",
       "      <td>0.464481</td>\n",
       "    </tr>\n",
       "    <tr>\n",
       "      <th>2</th>\n",
       "      <td>3</td>\n",
       "      <td>0.239203</td>\n",
       "    </tr>\n",
       "    <tr>\n",
       "      <th>3</th>\n",
       "      <td>4</td>\n",
       "      <td>0.166667</td>\n",
       "    </tr>\n",
       "    <tr>\n",
       "      <th>4</th>\n",
       "      <td>C</td>\n",
       "      <td>0.340426</td>\n",
       "    </tr>\n",
       "    <tr>\n",
       "      <th>5</th>\n",
       "      <td>P</td>\n",
       "      <td>0.646154</td>\n",
       "    </tr>\n",
       "    <tr>\n",
       "      <th>6</th>\n",
       "      <td>S</td>\n",
       "      <td>0.323077</td>\n",
       "    </tr>\n",
       "  </tbody>\n",
       "</table>\n",
       "</div>"
      ],
      "text/plain": [
       "  Ticket  Survived\n",
       "0      1  0.630137\n",
       "1      2  0.464481\n",
       "2      3  0.239203\n",
       "3      4  0.166667\n",
       "4      C  0.340426\n",
       "5      P  0.646154\n",
       "6      S  0.323077"
      ]
     },
     "execution_count": 65,
     "metadata": {},
     "output_type": "execute_result"
    }
   ],
   "source": [
    "df['Ticket'] = df['Ticket'].replace(['A','W','F','L','5','6','7','8','9'], '4')\n",
    "\n",
    "# check the correlation again\n",
    "df[['Ticket', 'Survived']].groupby(['Ticket'], as_index=False).mean()"
   ]
  },
  {
   "cell_type": "code",
   "execution_count": 66,
   "metadata": {
    "_cell_guid": "76238516-9a91-4238-8fc7-abdd64af5435",
    "_execution_state": "idle",
    "_uuid": "ac5457d8c3d71e35495d2aeaca2008cabc1b0bae"
   },
   "outputs": [],
   "source": [
    "# dummy encoding\n",
    "df = pd.get_dummies(df,columns=['Ticket'])"
   ]
  },
  {
   "cell_type": "code",
   "execution_count": 67,
   "metadata": {
    "_cell_guid": "e859e686-72db-4608-a89e-24a9e9b52e47",
    "_execution_state": "idle",
    "_uuid": "df4d6e82a6a6fac2c995d55f829085f9afee3267"
   },
   "outputs": [],
   "source": [
    "df = df.drop(labels=['SibSp','Parch','Age','Fare','Title'], axis=1)\n",
    "y_train = df[0:891]['Survived'].values\n",
    "X_train = df[0:891].drop(['Survived','PassengerId'], axis=1).values\n",
    "X_test  = df[891:].drop(['Survived','PassengerId'], axis=1).values"
   ]
  },
  {
   "cell_type": "code",
   "execution_count": 68,
   "metadata": {
    "_cell_guid": "1b0b8eed-36fc-4d4c-8ef1-1dc96becdc39",
    "_execution_state": "idle",
    "_kg_hide-output": true,
    "_uuid": "1dfd64f73918b8cacdb76f40a0a969c46accaefc"
   },
   "outputs": [
    {
     "name": "stdout",
     "output_type": "stream",
     "text": [
      "WARNING:tensorflow:From C:\\Users\\shrey\\Anaconda3\\lib\\site-packages\\keras\\backend\\tensorflow_backend.py:74: The name tf.get_default_graph is deprecated. Please use tf.compat.v1.get_default_graph instead.\n",
      "\n",
      "WARNING:tensorflow:From C:\\Users\\shrey\\Anaconda3\\lib\\site-packages\\keras\\backend\\tensorflow_backend.py:517: The name tf.placeholder is deprecated. Please use tf.compat.v1.placeholder instead.\n",
      "\n",
      "WARNING:tensorflow:From C:\\Users\\shrey\\Anaconda3\\lib\\site-packages\\keras\\backend\\tensorflow_backend.py:4138: The name tf.random_uniform is deprecated. Please use tf.random.uniform instead.\n",
      "\n",
      "WARNING:tensorflow:From C:\\Users\\shrey\\Anaconda3\\lib\\site-packages\\keras\\optimizers.py:790: The name tf.train.Optimizer is deprecated. Please use tf.compat.v1.train.Optimizer instead.\n",
      "\n",
      "WARNING:tensorflow:From C:\\Users\\shrey\\Anaconda3\\lib\\site-packages\\keras\\backend\\tensorflow_backend.py:3376: The name tf.log is deprecated. Please use tf.math.log instead.\n",
      "\n",
      "WARNING:tensorflow:From C:\\Users\\shrey\\Anaconda3\\lib\\site-packages\\tensorflow\\python\\ops\\nn_impl.py:180: add_dispatch_support.<locals>.wrapper (from tensorflow.python.ops.array_ops) is deprecated and will be removed in a future version.\n",
      "Instructions for updating:\n",
      "Use tf.where in 2.0, which has the same broadcast rule as np.where\n",
      "WARNING:tensorflow:From C:\\Users\\shrey\\Anaconda3\\lib\\site-packages\\keras\\backend\\tensorflow_backend.py:986: The name tf.assign_add is deprecated. Please use tf.compat.v1.assign_add instead.\n",
      "\n",
      "Epoch 1/200\n",
      "891/891 [==============================] - 1s 718us/step - loss: 0.6919 - acc: 0.6162\n",
      "Epoch 2/200\n",
      "891/891 [==============================] - 0s 49us/step - loss: 0.6885 - acc: 0.6162\n",
      "Epoch 3/200\n",
      "891/891 [==============================] - 0s 45us/step - loss: 0.6824 - acc: 0.6162\n",
      "Epoch 4/200\n",
      "891/891 [==============================] - 0s 49us/step - loss: 0.6660 - acc: 0.6162\n",
      "Epoch 5/200\n",
      "891/891 [==============================] - 0s 45us/step - loss: 0.6342 - acc: 0.6162\n",
      "Epoch 6/200\n",
      "891/891 [==============================] - 0s 45us/step - loss: 0.5916 - acc: 0.6162\n",
      "Epoch 7/200\n",
      "891/891 [==============================] - 0s 49us/step - loss: 0.5587 - acc: 0.6162\n",
      "Epoch 8/200\n",
      "891/891 [==============================] - 0s 54us/step - loss: 0.5386 - acc: 0.6162\n",
      "Epoch 9/200\n",
      "891/891 [==============================] - 0s 45us/step - loss: 0.5273 - acc: 0.6162\n",
      "Epoch 10/200\n",
      "891/891 [==============================] - 0s 45us/step - loss: 0.5150 - acc: 0.8002\n",
      "Epoch 11/200\n",
      "891/891 [==============================] - 0s 40us/step - loss: 0.4981 - acc: 0.8081\n",
      "Epoch 12/200\n",
      "891/891 [==============================] - 0s 45us/step - loss: 0.4774 - acc: 0.8137\n",
      "Epoch 13/200\n",
      "891/891 [==============================] - 0s 40us/step - loss: 0.4585 - acc: 0.8171\n",
      "Epoch 14/200\n",
      "891/891 [==============================] - 0s 49us/step - loss: 0.4441 - acc: 0.8182\n",
      "Epoch 15/200\n",
      "891/891 [==============================] - 0s 45us/step - loss: 0.4351 - acc: 0.8238\n",
      "Epoch 16/200\n",
      "891/891 [==============================] - 0s 67us/step - loss: 0.4278 - acc: 0.8204\n",
      "Epoch 17/200\n",
      "891/891 [==============================] - 0s 40us/step - loss: 0.4253 - acc: 0.8272\n",
      "Epoch 18/200\n",
      "891/891 [==============================] - 0s 54us/step - loss: 0.4199 - acc: 0.8272\n",
      "Epoch 19/200\n",
      "891/891 [==============================] - 0s 49us/step - loss: 0.4191 - acc: 0.8272\n",
      "Epoch 20/200\n",
      "891/891 [==============================] - 0s 45us/step - loss: 0.4194 - acc: 0.8316\n",
      "Epoch 21/200\n",
      "891/891 [==============================] - 0s 54us/step - loss: 0.4145 - acc: 0.8373\n",
      "Epoch 22/200\n",
      "891/891 [==============================] - 0s 90us/step - loss: 0.4153 - acc: 0.8305\n",
      "Epoch 23/200\n",
      "891/891 [==============================] - 0s 72us/step - loss: 0.4138 - acc: 0.8316\n",
      "Epoch 24/200\n",
      "891/891 [==============================] - 0s 76us/step - loss: 0.4123 - acc: 0.8350\n",
      "Epoch 25/200\n",
      "891/891 [==============================] - 0s 72us/step - loss: 0.4107 - acc: 0.8384\n",
      "Epoch 26/200\n",
      "891/891 [==============================] - 0s 63us/step - loss: 0.4095 - acc: 0.8406\n",
      "Epoch 27/200\n",
      "891/891 [==============================] - 0s 72us/step - loss: 0.4112 - acc: 0.8350\n",
      "Epoch 28/200\n",
      "891/891 [==============================] - 0s 72us/step - loss: 0.4091 - acc: 0.8373\n",
      "Epoch 29/200\n",
      "891/891 [==============================] - 0s 72us/step - loss: 0.4091 - acc: 0.8373\n",
      "Epoch 30/200\n",
      "891/891 [==============================] - 0s 81us/step - loss: 0.4088 - acc: 0.8350\n",
      "Epoch 31/200\n",
      "891/891 [==============================] - 0s 72us/step - loss: 0.4069 - acc: 0.8339\n",
      "Epoch 32/200\n",
      "891/891 [==============================] - 0s 54us/step - loss: 0.4061 - acc: 0.8328\n",
      "Epoch 33/200\n",
      "891/891 [==============================] - 0s 58us/step - loss: 0.4052 - acc: 0.8373\n",
      "Epoch 34/200\n",
      "891/891 [==============================] - 0s 54us/step - loss: 0.4048 - acc: 0.8350\n",
      "Epoch 35/200\n",
      "891/891 [==============================] - 0s 54us/step - loss: 0.4045 - acc: 0.8350\n",
      "Epoch 36/200\n",
      "891/891 [==============================] - 0s 54us/step - loss: 0.4057 - acc: 0.8350\n",
      "Epoch 37/200\n",
      "891/891 [==============================] - 0s 58us/step - loss: 0.4043 - acc: 0.8328\n",
      "Epoch 38/200\n",
      "891/891 [==============================] - 0s 72us/step - loss: 0.4031 - acc: 0.8283\n",
      "Epoch 39/200\n",
      "891/891 [==============================] - 0s 58us/step - loss: 0.4034 - acc: 0.8418\n",
      "Epoch 40/200\n",
      "891/891 [==============================] - 0s 58us/step - loss: 0.4034 - acc: 0.8406\n",
      "Epoch 41/200\n",
      "891/891 [==============================] - 0s 67us/step - loss: 0.4014 - acc: 0.8418\n",
      "Epoch 42/200\n",
      "891/891 [==============================] - 0s 81us/step - loss: 0.4063 - acc: 0.8272\n",
      "Epoch 43/200\n",
      "891/891 [==============================] - 0s 67us/step - loss: 0.4028 - acc: 0.8328\n",
      "Epoch 44/200\n",
      "891/891 [==============================] - 0s 90us/step - loss: 0.4010 - acc: 0.8316\n",
      "Epoch 45/200\n",
      "891/891 [==============================] - 0s 54us/step - loss: 0.4008 - acc: 0.8316\n",
      "Epoch 46/200\n",
      "891/891 [==============================] - 0s 45us/step - loss: 0.4003 - acc: 0.8395\n",
      "Epoch 47/200\n",
      "891/891 [==============================] - 0s 45us/step - loss: 0.4025 - acc: 0.8283\n",
      "Epoch 48/200\n",
      "891/891 [==============================] - 0s 45us/step - loss: 0.4000 - acc: 0.8283\n",
      "Epoch 49/200\n",
      "891/891 [==============================] - 0s 49us/step - loss: 0.4020 - acc: 0.8328\n",
      "Epoch 50/200\n",
      "891/891 [==============================] - 0s 40us/step - loss: 0.3995 - acc: 0.8395\n",
      "Epoch 51/200\n",
      "891/891 [==============================] - 0s 45us/step - loss: 0.3999 - acc: 0.8361\n",
      "Epoch 52/200\n",
      "891/891 [==============================] - 0s 54us/step - loss: 0.3991 - acc: 0.8373\n",
      "Epoch 53/200\n",
      "891/891 [==============================] - 0s 58us/step - loss: 0.3998 - acc: 0.8339\n",
      "Epoch 54/200\n",
      "891/891 [==============================] - 0s 45us/step - loss: 0.4021 - acc: 0.8384\n",
      "Epoch 55/200\n",
      "891/891 [==============================] - 0s 63us/step - loss: 0.3999 - acc: 0.8361\n",
      "Epoch 56/200\n",
      "891/891 [==============================] - 0s 49us/step - loss: 0.3997 - acc: 0.8384\n",
      "Epoch 57/200\n",
      "891/891 [==============================] - 0s 58us/step - loss: 0.4016 - acc: 0.8305\n",
      "Epoch 58/200\n",
      "891/891 [==============================] - 0s 54us/step - loss: 0.3988 - acc: 0.8339\n",
      "Epoch 59/200\n",
      "891/891 [==============================] - 0s 45us/step - loss: 0.3977 - acc: 0.8440\n",
      "Epoch 60/200\n",
      "891/891 [==============================] - 0s 45us/step - loss: 0.4000 - acc: 0.8316\n",
      "Epoch 61/200\n",
      "891/891 [==============================] - 0s 40us/step - loss: 0.3978 - acc: 0.8350\n",
      "Epoch 62/200\n",
      "891/891 [==============================] - 0s 40us/step - loss: 0.3978 - acc: 0.8283\n",
      "Epoch 63/200\n",
      "891/891 [==============================] - 0s 40us/step - loss: 0.3983 - acc: 0.8373\n",
      "Epoch 64/200\n",
      "891/891 [==============================] - 0s 40us/step - loss: 0.4000 - acc: 0.8294\n",
      "Epoch 65/200\n",
      "891/891 [==============================] - 0s 36us/step - loss: 0.3987 - acc: 0.8350\n",
      "Epoch 66/200\n",
      "891/891 [==============================] - 0s 45us/step - loss: 0.4002 - acc: 0.8361\n",
      "Epoch 67/200\n",
      "891/891 [==============================] - 0s 49us/step - loss: 0.3973 - acc: 0.8373\n",
      "Epoch 68/200\n",
      "891/891 [==============================] - 0s 58us/step - loss: 0.3968 - acc: 0.8361\n",
      "Epoch 69/200\n"
     ]
    },
    {
     "name": "stdout",
     "output_type": "stream",
     "text": [
      "891/891 [==============================] - 0s 36us/step - loss: 0.3969 - acc: 0.8373\n",
      "Epoch 70/200\n",
      "891/891 [==============================] - 0s 40us/step - loss: 0.3970 - acc: 0.8384\n",
      "Epoch 71/200\n",
      "891/891 [==============================] - 0s 45us/step - loss: 0.3966 - acc: 0.8350\n",
      "Epoch 72/200\n",
      "891/891 [==============================] - 0s 49us/step - loss: 0.3965 - acc: 0.8384\n",
      "Epoch 73/200\n",
      "891/891 [==============================] - 0s 31us/step - loss: 0.3970 - acc: 0.8350\n",
      "Epoch 74/200\n",
      "891/891 [==============================] - 0s 40us/step - loss: 0.3980 - acc: 0.8384\n",
      "Epoch 75/200\n",
      "891/891 [==============================] - 0s 40us/step - loss: 0.3970 - acc: 0.8373\n",
      "Epoch 76/200\n",
      "891/891 [==============================] - 0s 40us/step - loss: 0.3956 - acc: 0.8373\n",
      "Epoch 77/200\n",
      "891/891 [==============================] - 0s 36us/step - loss: 0.3976 - acc: 0.8361\n",
      "Epoch 78/200\n",
      "891/891 [==============================] - 0s 40us/step - loss: 0.3957 - acc: 0.8294\n",
      "Epoch 79/200\n",
      "891/891 [==============================] - 0s 40us/step - loss: 0.3962 - acc: 0.8373\n",
      "Epoch 80/200\n",
      "891/891 [==============================] - 0s 40us/step - loss: 0.3956 - acc: 0.8361\n",
      "Epoch 81/200\n",
      "891/891 [==============================] - 0s 40us/step - loss: 0.3973 - acc: 0.8373\n",
      "Epoch 82/200\n",
      "891/891 [==============================] - 0s 40us/step - loss: 0.3969 - acc: 0.8316\n",
      "Epoch 83/200\n",
      "891/891 [==============================] - 0s 40us/step - loss: 0.3954 - acc: 0.8350\n",
      "Epoch 84/200\n",
      "891/891 [==============================] - 0s 45us/step - loss: 0.3949 - acc: 0.8395\n",
      "Epoch 85/200\n",
      "891/891 [==============================] - 0s 40us/step - loss: 0.3950 - acc: 0.8373\n",
      "Epoch 86/200\n",
      "891/891 [==============================] - 0s 45us/step - loss: 0.3947 - acc: 0.8350\n",
      "Epoch 87/200\n",
      "891/891 [==============================] - 0s 36us/step - loss: 0.3947 - acc: 0.8350\n",
      "Epoch 88/200\n",
      "891/891 [==============================] - 0s 40us/step - loss: 0.3954 - acc: 0.8294\n",
      "Epoch 89/200\n",
      "891/891 [==============================] - 0s 36us/step - loss: 0.3946 - acc: 0.8305\n",
      "Epoch 90/200\n",
      "891/891 [==============================] - 0s 40us/step - loss: 0.3945 - acc: 0.8350\n",
      "Epoch 91/200\n",
      "891/891 [==============================] - 0s 40us/step - loss: 0.3943 - acc: 0.8373\n",
      "Epoch 92/200\n",
      "891/891 [==============================] - 0s 40us/step - loss: 0.3945 - acc: 0.8339\n",
      "Epoch 93/200\n",
      "891/891 [==============================] - 0s 63us/step - loss: 0.3967 - acc: 0.8328\n",
      "Epoch 94/200\n",
      "891/891 [==============================] - 0s 45us/step - loss: 0.3940 - acc: 0.8339\n",
      "Epoch 95/200\n",
      "891/891 [==============================] - 0s 40us/step - loss: 0.3971 - acc: 0.8272\n",
      "Epoch 96/200\n",
      "891/891 [==============================] - 0s 40us/step - loss: 0.3937 - acc: 0.8373\n",
      "Epoch 97/200\n",
      "891/891 [==============================] - 0s 36us/step - loss: 0.3930 - acc: 0.8384\n",
      "Epoch 98/200\n",
      "891/891 [==============================] - 0s 36us/step - loss: 0.3938 - acc: 0.8328\n",
      "Epoch 99/200\n",
      "891/891 [==============================] - 0s 40us/step - loss: 0.3939 - acc: 0.8361\n",
      "Epoch 100/200\n",
      "891/891 [==============================] - 0s 40us/step - loss: 0.3945 - acc: 0.8328\n",
      "Epoch 101/200\n",
      "891/891 [==============================] - 0s 49us/step - loss: 0.3936 - acc: 0.8361\n",
      "Epoch 102/200\n",
      "891/891 [==============================] - 0s 40us/step - loss: 0.3928 - acc: 0.8373\n",
      "Epoch 103/200\n",
      "891/891 [==============================] - 0s 40us/step - loss: 0.3934 - acc: 0.8373\n",
      "Epoch 104/200\n",
      "891/891 [==============================] - 0s 40us/step - loss: 0.3933 - acc: 0.8339\n",
      "Epoch 105/200\n",
      "891/891 [==============================] - 0s 40us/step - loss: 0.3926 - acc: 0.8328\n",
      "Epoch 106/200\n",
      "891/891 [==============================] - 0s 40us/step - loss: 0.3927 - acc: 0.8361\n",
      "Epoch 107/200\n",
      "891/891 [==============================] - 0s 40us/step - loss: 0.3929 - acc: 0.8316\n",
      "Epoch 108/200\n",
      "891/891 [==============================] - 0s 49us/step - loss: 0.3923 - acc: 0.8339\n",
      "Epoch 109/200\n",
      "891/891 [==============================] - 0s 40us/step - loss: 0.3935 - acc: 0.8384\n",
      "Epoch 110/200\n",
      "891/891 [==============================] - 0s 40us/step - loss: 0.3926 - acc: 0.8305\n",
      "Epoch 111/200\n",
      "891/891 [==============================] - 0s 40us/step - loss: 0.3924 - acc: 0.8339\n",
      "Epoch 112/200\n",
      "891/891 [==============================] - 0s 40us/step - loss: 0.3918 - acc: 0.8316\n",
      "Epoch 113/200\n",
      "891/891 [==============================] - 0s 40us/step - loss: 0.3919 - acc: 0.8350\n",
      "Epoch 114/200\n",
      "891/891 [==============================] - 0s 40us/step - loss: 0.3917 - acc: 0.8328\n",
      "Epoch 115/200\n",
      "891/891 [==============================] - 0s 36us/step - loss: 0.3920 - acc: 0.8339\n",
      "Epoch 116/200\n",
      "891/891 [==============================] - 0s 36us/step - loss: 0.3923 - acc: 0.8373\n",
      "Epoch 117/200\n",
      "891/891 [==============================] - 0s 40us/step - loss: 0.3923 - acc: 0.8316\n",
      "Epoch 118/200\n",
      "891/891 [==============================] - 0s 40us/step - loss: 0.3914 - acc: 0.8294\n",
      "Epoch 119/200\n",
      "891/891 [==============================] - 0s 40us/step - loss: 0.3922 - acc: 0.8339\n",
      "Epoch 120/200\n",
      "891/891 [==============================] - 0s 45us/step - loss: 0.3911 - acc: 0.8384\n",
      "Epoch 121/200\n",
      "891/891 [==============================] - 0s 36us/step - loss: 0.3915 - acc: 0.8361\n",
      "Epoch 122/200\n",
      "891/891 [==============================] - 0s 40us/step - loss: 0.3922 - acc: 0.8294\n",
      "Epoch 123/200\n",
      "891/891 [==============================] - 0s 40us/step - loss: 0.3925 - acc: 0.8316\n",
      "Epoch 124/200\n",
      "891/891 [==============================] - 0s 40us/step - loss: 0.3918 - acc: 0.8350\n",
      "Epoch 125/200\n",
      "891/891 [==============================] - 0s 40us/step - loss: 0.3921 - acc: 0.8339\n",
      "Epoch 126/200\n",
      "891/891 [==============================] - 0s 40us/step - loss: 0.3927 - acc: 0.8328\n",
      "Epoch 127/200\n",
      "891/891 [==============================] - 0s 40us/step - loss: 0.3914 - acc: 0.8373\n",
      "Epoch 128/200\n",
      "891/891 [==============================] - 0s 45us/step - loss: 0.3909 - acc: 0.8361\n",
      "Epoch 129/200\n",
      "891/891 [==============================] - 0s 40us/step - loss: 0.3902 - acc: 0.8395\n",
      "Epoch 130/200\n",
      "891/891 [==============================] - 0s 40us/step - loss: 0.3910 - acc: 0.8384\n",
      "Epoch 131/200\n",
      "891/891 [==============================] - 0s 36us/step - loss: 0.3909 - acc: 0.8305\n",
      "Epoch 132/200\n",
      "891/891 [==============================] - 0s 40us/step - loss: 0.3901 - acc: 0.8350\n",
      "Epoch 133/200\n",
      "891/891 [==============================] - 0s 40us/step - loss: 0.3912 - acc: 0.8339\n",
      "Epoch 134/200\n",
      "891/891 [==============================] - 0s 40us/step - loss: 0.3902 - acc: 0.8339\n",
      "Epoch 135/200\n",
      "891/891 [==============================] - 0s 40us/step - loss: 0.3902 - acc: 0.8361\n",
      "Epoch 136/200\n",
      "891/891 [==============================] - 0s 45us/step - loss: 0.3898 - acc: 0.8339\n",
      "Epoch 137/200\n",
      "891/891 [==============================] - 0s 40us/step - loss: 0.3910 - acc: 0.8384\n",
      "Epoch 138/200\n",
      "891/891 [==============================] - 0s 40us/step - loss: 0.3907 - acc: 0.8260\n",
      "Epoch 139/200\n",
      "891/891 [==============================] - 0s 49us/step - loss: 0.3919 - acc: 0.8305\n",
      "Epoch 140/200\n",
      "891/891 [==============================] - 0s 54us/step - loss: 0.3892 - acc: 0.8328\n",
      "Epoch 141/200\n",
      "891/891 [==============================] - 0s 40us/step - loss: 0.3904 - acc: 0.8350\n",
      "Epoch 142/200\n",
      "891/891 [==============================] - 0s 36us/step - loss: 0.3924 - acc: 0.8305\n",
      "Epoch 143/200\n",
      "891/891 [==============================] - 0s 40us/step - loss: 0.3915 - acc: 0.8361\n",
      "Epoch 144/200\n",
      "891/891 [==============================] - 0s 40us/step - loss: 0.3893 - acc: 0.8373\n",
      "Epoch 145/200\n",
      "891/891 [==============================] - 0s 36us/step - loss: 0.3893 - acc: 0.8339\n",
      "Epoch 146/200\n",
      "891/891 [==============================] - 0s 36us/step - loss: 0.3894 - acc: 0.8339\n",
      "Epoch 147/200\n",
      "891/891 [==============================] - 0s 45us/step - loss: 0.3882 - acc: 0.8373\n",
      "Epoch 148/200\n",
      "891/891 [==============================] - 0s 40us/step - loss: 0.3890 - acc: 0.8361\n",
      "Epoch 149/200\n",
      "891/891 [==============================] - 0s 40us/step - loss: 0.3894 - acc: 0.8328\n",
      "Epoch 150/200\n",
      "891/891 [==============================] - 0s 40us/step - loss: 0.3886 - acc: 0.8361\n",
      "Epoch 151/200\n",
      "891/891 [==============================] - 0s 40us/step - loss: 0.3875 - acc: 0.8373\n",
      "Epoch 152/200\n"
     ]
    },
    {
     "name": "stdout",
     "output_type": "stream",
     "text": [
      "891/891 [==============================] - 0s 36us/step - loss: 0.3874 - acc: 0.8373\n",
      "Epoch 153/200\n",
      "891/891 [==============================] - 0s 40us/step - loss: 0.3873 - acc: 0.8350\n",
      "Epoch 154/200\n",
      "891/891 [==============================] - 0s 40us/step - loss: 0.3876 - acc: 0.8384\n",
      "Epoch 155/200\n",
      "891/891 [==============================] - 0s 40us/step - loss: 0.3868 - acc: 0.8395\n",
      "Epoch 156/200\n",
      "891/891 [==============================] - 0s 54us/step - loss: 0.3877 - acc: 0.8384\n",
      "Epoch 157/200\n",
      "891/891 [==============================] - 0s 49us/step - loss: 0.3866 - acc: 0.8361\n",
      "Epoch 158/200\n",
      "891/891 [==============================] - 0s 49us/step - loss: 0.3874 - acc: 0.8361\n",
      "Epoch 159/200\n",
      "891/891 [==============================] - 0s 40us/step - loss: 0.3873 - acc: 0.8305\n",
      "Epoch 160/200\n",
      "891/891 [==============================] - 0s 45us/step - loss: 0.3860 - acc: 0.8339\n",
      "Epoch 161/200\n",
      "891/891 [==============================] - 0s 36us/step - loss: 0.3881 - acc: 0.8384\n",
      "Epoch 162/200\n",
      "891/891 [==============================] - 0s 40us/step - loss: 0.3863 - acc: 0.8395\n",
      "Epoch 163/200\n",
      "891/891 [==============================] - 0s 49us/step - loss: 0.3870 - acc: 0.8361\n",
      "Epoch 164/200\n",
      "891/891 [==============================] - 0s 40us/step - loss: 0.3880 - acc: 0.8361\n",
      "Epoch 165/200\n",
      "891/891 [==============================] - 0s 40us/step - loss: 0.3857 - acc: 0.8384\n",
      "Epoch 166/200\n",
      "891/891 [==============================] - 0s 49us/step - loss: 0.3864 - acc: 0.8384\n",
      "Epoch 167/200\n",
      "891/891 [==============================] - 0s 40us/step - loss: 0.3860 - acc: 0.8395\n",
      "Epoch 168/200\n",
      "891/891 [==============================] - 0s 36us/step - loss: 0.3862 - acc: 0.8339\n",
      "Epoch 169/200\n",
      "891/891 [==============================] - 0s 36us/step - loss: 0.3853 - acc: 0.8406\n",
      "Epoch 170/200\n",
      "891/891 [==============================] - 0s 40us/step - loss: 0.3858 - acc: 0.8373\n",
      "Epoch 171/200\n",
      "891/891 [==============================] - 0s 40us/step - loss: 0.3867 - acc: 0.8406\n",
      "Epoch 172/200\n",
      "891/891 [==============================] - 0s 40us/step - loss: 0.3861 - acc: 0.8373\n",
      "Epoch 173/200\n",
      "891/891 [==============================] - 0s 40us/step - loss: 0.3852 - acc: 0.8350\n",
      "Epoch 174/200\n",
      "891/891 [==============================] - 0s 40us/step - loss: 0.3851 - acc: 0.8384\n",
      "Epoch 175/200\n",
      "891/891 [==============================] - 0s 36us/step - loss: 0.3855 - acc: 0.8361\n",
      "Epoch 176/200\n",
      "891/891 [==============================] - 0s 45us/step - loss: 0.3840 - acc: 0.8395\n",
      "Epoch 177/200\n",
      "891/891 [==============================] - 0s 40us/step - loss: 0.3848 - acc: 0.8361\n",
      "Epoch 178/200\n",
      "891/891 [==============================] - 0s 40us/step - loss: 0.3850 - acc: 0.8373\n",
      "Epoch 179/200\n",
      "891/891 [==============================] - 0s 36us/step - loss: 0.3837 - acc: 0.8395\n",
      "Epoch 180/200\n",
      "891/891 [==============================] - 0s 40us/step - loss: 0.3864 - acc: 0.8384\n",
      "Epoch 181/200\n",
      "891/891 [==============================] - 0s 36us/step - loss: 0.3857 - acc: 0.8373\n",
      "Epoch 182/200\n",
      "891/891 [==============================] - 0s 45us/step - loss: 0.3843 - acc: 0.8350\n",
      "Epoch 183/200\n",
      "891/891 [==============================] - 0s 40us/step - loss: 0.3845 - acc: 0.8395\n",
      "Epoch 184/200\n",
      "891/891 [==============================] - 0s 40us/step - loss: 0.3846 - acc: 0.8361\n",
      "Epoch 185/200\n",
      "891/891 [==============================] - 0s 40us/step - loss: 0.3837 - acc: 0.8406\n",
      "Epoch 186/200\n",
      "891/891 [==============================] - 0s 49us/step - loss: 0.3832 - acc: 0.8395\n",
      "Epoch 187/200\n",
      "891/891 [==============================] - 0s 40us/step - loss: 0.3834 - acc: 0.8373\n",
      "Epoch 188/200\n",
      "891/891 [==============================] - 0s 40us/step - loss: 0.3828 - acc: 0.8406\n",
      "Epoch 189/200\n",
      "891/891 [==============================] - 0s 40us/step - loss: 0.3834 - acc: 0.8361\n",
      "Epoch 190/200\n",
      "891/891 [==============================] - 0s 40us/step - loss: 0.3839 - acc: 0.8361\n",
      "Epoch 191/200\n",
      "891/891 [==============================] - 0s 40us/step - loss: 0.3834 - acc: 0.8339\n",
      "Epoch 192/200\n",
      "891/891 [==============================] - 0s 40us/step - loss: 0.3831 - acc: 0.8373\n",
      "Epoch 193/200\n",
      "891/891 [==============================] - 0s 49us/step - loss: 0.3835 - acc: 0.8395\n",
      "Epoch 194/200\n",
      "891/891 [==============================] - 0s 40us/step - loss: 0.3859 - acc: 0.8384\n",
      "Epoch 195/200\n",
      "891/891 [==============================] - 0s 45us/step - loss: 0.3820 - acc: 0.8350\n",
      "Epoch 196/200\n",
      "891/891 [==============================] - 0s 40us/step - loss: 0.3837 - acc: 0.8384\n",
      "Epoch 197/200\n",
      "891/891 [==============================] - 0s 45us/step - loss: 0.3829 - acc: 0.8373\n",
      "Epoch 198/200\n",
      "891/891 [==============================] - 0s 49us/step - loss: 0.3824 - acc: 0.8418\n",
      "Epoch 199/200\n",
      "891/891 [==============================] - 0s 49us/step - loss: 0.3826 - acc: 0.8384\n",
      "Epoch 200/200\n",
      "891/891 [==============================] - 0s 40us/step - loss: 0.3843 - acc: 0.8350\n"
     ]
    },
    {
     "data": {
      "text/plain": [
       "<keras.callbacks.History at 0x17d49c77da0>"
      ]
     },
     "execution_count": 68,
     "metadata": {},
     "output_type": "execute_result"
    }
   ],
   "source": [
    "# Initialising the NN\n",
    "model = Sequential()\n",
    "\n",
    "# layers\n",
    "model.add(Dense(units = 9, kernel_initializer = 'uniform', activation = 'relu', input_dim = 17))\n",
    "model.add(Dense(units = 9, kernel_initializer = 'uniform', activation = 'relu'))\n",
    "model.add(Dense(units = 5, kernel_initializer = 'uniform', activation = 'relu'))\n",
    "model.add(Dense(units = 1, kernel_initializer = 'uniform', activation = 'sigmoid'))\n",
    "\n",
    "# Compiling the ANN\n",
    "model.compile(optimizer = 'adam', loss = 'binary_crossentropy', metrics = ['accuracy'])\n",
    "\n",
    "# Train the ANN\n",
    "model.fit(X_train, y_train, batch_size = 32, epochs = 200)"
   ]
  },
  {
   "cell_type": "markdown",
   "metadata": {
    "_cell_guid": "ae0b0267-706b-4673-a5e1-5821edc2a9e4",
    "_execution_state": "idle",
    "_uuid": "8f65307ece4155513982147fc7bbc497074af201"
   },
   "source": [
    "We can now get the prediction. Here we get the prediction as 0.8350."
   ]
  },
  {
   "cell_type": "code",
   "execution_count": 72,
   "metadata": {
    "_cell_guid": "4a651081-886a-4a9a-8324-a264483d0721",
    "_execution_state": "idle",
    "_uuid": "7a6c2f2885d7caf67993db99f6880d53e5880372"
   },
   "outputs": [],
   "source": [
    "y_pred = model.predict(X_test)\n",
    "y_final = (y_pred > 0.5).astype(int).reshape(X_test.shape[0])\n",
    "\n",
    "output = pd.DataFrame({'PassengerId': df_test['PassengerId'], 'Survived': y_final})\n",
    "output.to_csv('prediction-ann.csv', index=False)\n"
   ]
  },
  {
   "cell_type": "code",
   "execution_count": 71,
   "metadata": {},
   "outputs": [
    {
     "name": "stdout",
     "output_type": "stream",
     "text": [
      "[0 1 0 0 1 0 1 0 1 0 0 0 1 0 1 1 0 0 1 1 0 1 1 0 1 0 1 0 0 0 0 0 1 0 0 0 0\n",
      " 0 0 0 0 0 0 1 1 0 0 0 1 1 0 0 1 1 0 0 0 0 0 1 0 0 0 1 1 1 0 0 0 1 1 0 0 0\n",
      " 1 0 0 1 0 1 1 0 0 0 0 0 0 0 1 1 1 0 1 0 0 0 1 0 1 0 1 0 0 0 1 0 0 0 0 0 0\n",
      " 1 1 1 1 0 0 1 0 1 1 0 1 0 0 1 0 1 0 0 0 0 0 0 0 0 0 0 0 0 0 1 0 0 0 0 0 0\n",
      " 0 0 1 0 0 1 0 0 1 1 0 1 1 1 1 0 0 1 0 0 1 0 0 0 0 0 0 1 1 0 1 1 0 1 1 0 1\n",
      " 0 1 0 0 0 0 0 0 0 1 0 1 1 0 0 0 1 0 1 0 0 0 0 1 0 0 0 0 1 0 0 0 0 1 0 1 0\n",
      " 1 0 1 1 0 1 0 0 0 1 0 0 0 0 0 0 1 1 1 1 1 0 0 0 1 0 1 1 1 0 0 0 0 0 0 0 1\n",
      " 0 0 0 1 1 0 0 0 0 0 0 0 0 1 1 0 1 0 0 0 0 0 1 1 1 1 0 0 0 0 0 0 1 0 0 0 0\n",
      " 1 0 0 0 0 0 0 0 1 1 1 1 1 1 0 0 0 1 1 0 0 0 0 0 0 0 0 0 1 0 1 0 0 0 1 0 0\n",
      " 1 0 0 0 0 0 1 0 0 0 1 0 1 0 1 0 1 1 0 0 0 1 0 1 0 0 1 0 1 1 0 1 0 0 0 1 0\n",
      " 0 1 0 0 1 1 1 0 0 0 0 0 0 1 0 1 0 0 0 0 0 1 1 0 0 1 0 1 0 0 1 0 1 0 0 0 0\n",
      " 1 1 1 1 1 1 0 1 0 0 1]\n"
     ]
    }
   ],
   "source": [
    "print(y_final)"
   ]
  },
  {
   "cell_type": "code",
   "execution_count": null,
   "metadata": {},
   "outputs": [],
   "source": [
    "from sklearn import metrics\n",
    "neural_matrix=metrics.confusion_matrix(y_train, y_pred)\n",
    "cnf_matrix"
   ]
  },
  {
   "cell_type": "code",
   "execution_count": null,
   "metadata": {},
   "outputs": [],
   "source": []
  }
 ],
 "metadata": {
  "kernelspec": {
   "display_name": "Python 3",
   "language": "python",
   "name": "python3"
  },
  "language_info": {
   "codemirror_mode": {
    "name": "ipython",
    "version": 3
   },
   "file_extension": ".py",
   "mimetype": "text/x-python",
   "name": "python",
   "nbconvert_exporter": "python",
   "pygments_lexer": "ipython3",
   "version": "3.7.3"
  }
 },
 "nbformat": 4,
 "nbformat_minor": 1
}
